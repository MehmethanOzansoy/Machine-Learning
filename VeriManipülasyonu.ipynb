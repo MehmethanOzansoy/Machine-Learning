{
 "cells": [
  {
   "cell_type": "markdown",
   "id": "6eac13a6",
   "metadata": {},
   "source": [
    "## Numpy array"
   ]
  },
  {
   "cell_type": "code",
   "execution_count": 2,
   "id": "0f428c95",
   "metadata": {},
   "outputs": [],
   "source": [
    "import numpy as np"
   ]
  },
  {
   "cell_type": "code",
   "execution_count": 4,
   "id": "3da0c183",
   "metadata": {},
   "outputs": [],
   "source": [
    "a = np.array([1,2,5,83,554])"
   ]
  },
  {
   "cell_type": "code",
   "execution_count": 5,
   "id": "0ca738cc",
   "metadata": {},
   "outputs": [
    {
     "data": {
      "text/plain": [
       "numpy.ndarray"
      ]
     },
     "execution_count": 5,
     "metadata": {},
     "output_type": "execute_result"
    }
   ],
   "source": [
    "type(a)"
   ]
  },
  {
   "cell_type": "code",
   "execution_count": 6,
   "id": "4fddd33d",
   "metadata": {},
   "outputs": [
    {
     "data": {
      "text/plain": [
       "array([ 3.14,  4.  ,  2.  , 13.  ])"
      ]
     },
     "execution_count": 6,
     "metadata": {},
     "output_type": "execute_result"
    }
   ],
   "source": [
    "np.array([3.14,4,2,13])"
   ]
  },
  {
   "cell_type": "code",
   "execution_count": 7,
   "id": "fce7b11a",
   "metadata": {},
   "outputs": [
    {
     "data": {
      "text/plain": [
       "array([ 3,  4,  2, 13])"
      ]
     },
     "execution_count": 7,
     "metadata": {},
     "output_type": "execute_result"
    }
   ],
   "source": [
    "np.array([3.14,4,2,13],dtype=\"int\")"
   ]
  },
  {
   "cell_type": "code",
   "execution_count": 8,
   "id": "af331a3b",
   "metadata": {},
   "outputs": [
    {
     "data": {
      "text/plain": [
       "array([0., 0., 0., 0., 0., 0., 0., 0., 0., 0.])"
      ]
     },
     "execution_count": 8,
     "metadata": {},
     "output_type": "execute_result"
    }
   ],
   "source": [
    "np.zeros(10)"
   ]
  },
  {
   "cell_type": "code",
   "execution_count": 10,
   "id": "6a828b96",
   "metadata": {},
   "outputs": [
    {
     "data": {
      "text/plain": [
       "array([[1, 1, 1, 1, 1],\n",
       "       [1, 1, 1, 1, 1],\n",
       "       [1, 1, 1, 1, 1]])"
      ]
     },
     "execution_count": 10,
     "metadata": {},
     "output_type": "execute_result"
    }
   ],
   "source": [
    "np.ones((3,5), dtype = int)"
   ]
  },
  {
   "cell_type": "code",
   "execution_count": 11,
   "id": "e515f415",
   "metadata": {},
   "outputs": [
    {
     "data": {
      "text/plain": [
       "array([[3, 3, 3, 3, 3],\n",
       "       [3, 3, 3, 3, 3],\n",
       "       [3, 3, 3, 3, 3]])"
      ]
     },
     "execution_count": 11,
     "metadata": {},
     "output_type": "execute_result"
    }
   ],
   "source": [
    "np.full((3,5),3)"
   ]
  },
  {
   "cell_type": "code",
   "execution_count": 12,
   "id": "33cfa917",
   "metadata": {},
   "outputs": [
    {
     "data": {
      "text/plain": [
       "array([ 0,  3,  6,  9, 12, 15, 18, 21, 24, 27, 30])"
      ]
     },
     "execution_count": 12,
     "metadata": {},
     "output_type": "execute_result"
    }
   ],
   "source": [
    "np.arange(0,31, 3)"
   ]
  },
  {
   "cell_type": "code",
   "execution_count": 14,
   "id": "642f6e4a",
   "metadata": {},
   "outputs": [
    {
     "data": {
      "text/plain": [
       "array([0.     , 0.03125, 0.0625 , 0.09375, 0.125  , 0.15625, 0.1875 ,\n",
       "       0.21875, 0.25   , 0.28125, 0.3125 , 0.34375, 0.375  , 0.40625,\n",
       "       0.4375 , 0.46875, 0.5    , 0.53125, 0.5625 , 0.59375, 0.625  ,\n",
       "       0.65625, 0.6875 , 0.71875, 0.75   , 0.78125, 0.8125 , 0.84375,\n",
       "       0.875  , 0.90625, 0.9375 , 0.96875, 1.     ])"
      ]
     },
     "execution_count": 14,
     "metadata": {},
     "output_type": "execute_result"
    }
   ],
   "source": [
    "np.linspace(0,1,33)"
   ]
  },
  {
   "cell_type": "code",
   "execution_count": 15,
   "id": "aac8cd3d",
   "metadata": {},
   "outputs": [
    {
     "data": {
      "text/plain": [
       "array([[11.21418775,  9.12532589, 12.74512081, 14.11816942],\n",
       "       [ 8.75518042,  7.56261224,  8.64892947,  7.99816961],\n",
       "       [13.74366739,  7.57647325, 16.19467037,  5.20684059]])"
      ]
     },
     "execution_count": 15,
     "metadata": {},
     "output_type": "execute_result"
    }
   ],
   "source": [
    "np.random.normal(10,4,(3,4))"
   ]
  },
  {
   "cell_type": "code",
   "execution_count": 17,
   "id": "0e542cef",
   "metadata": {},
   "outputs": [
    {
     "data": {
      "text/plain": [
       "array([[9, 3, 7],\n",
       "       [0, 5, 5],\n",
       "       [6, 3, 9]])"
      ]
     },
     "execution_count": 17,
     "metadata": {},
     "output_type": "execute_result"
    }
   ],
   "source": [
    "np.random.randint(0,10,(3,3))"
   ]
  },
  {
   "cell_type": "markdown",
   "id": "a7c9589e",
   "metadata": {},
   "source": [
    "* **ndim**: boyut sayısı\n",
    "* **shape**: boyut bilgisi\n",
    "* **size**: toplam eleman sayısı\n",
    "* **dtype**: array veri tipi"
   ]
  },
  {
   "cell_type": "code",
   "execution_count": 20,
   "id": "9f2a03bb",
   "metadata": {},
   "outputs": [],
   "source": [
    "a = np.random.randint(10, size =10)"
   ]
  },
  {
   "cell_type": "code",
   "execution_count": 21,
   "id": "c2e2a4ce",
   "metadata": {},
   "outputs": [
    {
     "data": {
      "text/plain": [
       "1"
      ]
     },
     "execution_count": 21,
     "metadata": {},
     "output_type": "execute_result"
    }
   ],
   "source": [
    "a.ndim"
   ]
  },
  {
   "cell_type": "code",
   "execution_count": 22,
   "id": "de65007e",
   "metadata": {},
   "outputs": [
    {
     "data": {
      "text/plain": [
       "(10,)"
      ]
     },
     "execution_count": 22,
     "metadata": {},
     "output_type": "execute_result"
    }
   ],
   "source": [
    "a.shape"
   ]
  },
  {
   "cell_type": "code",
   "execution_count": 23,
   "id": "07ec9604",
   "metadata": {},
   "outputs": [
    {
     "data": {
      "text/plain": [
       "10"
      ]
     },
     "execution_count": 23,
     "metadata": {},
     "output_type": "execute_result"
    }
   ],
   "source": [
    "a.size"
   ]
  },
  {
   "cell_type": "code",
   "execution_count": 24,
   "id": "92a4ef77",
   "metadata": {},
   "outputs": [
    {
     "data": {
      "text/plain": [
       "dtype('int32')"
      ]
     },
     "execution_count": 24,
     "metadata": {},
     "output_type": "execute_result"
    }
   ],
   "source": [
    "a.dtype"
   ]
  },
  {
   "cell_type": "code",
   "execution_count": 25,
   "id": "e3964ce6",
   "metadata": {},
   "outputs": [],
   "source": [
    "b = np.random.randint(10, size =(3,5))"
   ]
  },
  {
   "cell_type": "code",
   "execution_count": 26,
   "id": "e7011935",
   "metadata": {},
   "outputs": [
    {
     "data": {
      "text/plain": [
       "array([[4, 0, 7, 6, 7],\n",
       "       [6, 8, 5, 4, 8],\n",
       "       [7, 6, 3, 4, 4]])"
      ]
     },
     "execution_count": 26,
     "metadata": {},
     "output_type": "execute_result"
    }
   ],
   "source": [
    "b"
   ]
  },
  {
   "cell_type": "code",
   "execution_count": 27,
   "id": "64c7036b",
   "metadata": {},
   "outputs": [
    {
     "data": {
      "text/plain": [
       "2"
      ]
     },
     "execution_count": 27,
     "metadata": {},
     "output_type": "execute_result"
    }
   ],
   "source": [
    "b.ndim"
   ]
  },
  {
   "cell_type": "code",
   "execution_count": 28,
   "id": "e3d661ef",
   "metadata": {},
   "outputs": [
    {
     "data": {
      "text/plain": [
       "(3, 5)"
      ]
     },
     "execution_count": 28,
     "metadata": {},
     "output_type": "execute_result"
    }
   ],
   "source": [
    "b.shape"
   ]
  },
  {
   "cell_type": "code",
   "execution_count": 29,
   "id": "79ef0958",
   "metadata": {},
   "outputs": [
    {
     "data": {
      "text/plain": [
       "15"
      ]
     },
     "execution_count": 29,
     "metadata": {},
     "output_type": "execute_result"
    }
   ],
   "source": [
    "b.size"
   ]
  },
  {
   "cell_type": "code",
   "execution_count": 30,
   "id": "0fd54f1e",
   "metadata": {},
   "outputs": [
    {
     "data": {
      "text/plain": [
       "dtype('int32')"
      ]
     },
     "execution_count": 30,
     "metadata": {},
     "output_type": "execute_result"
    }
   ],
   "source": [
    "b.dtype"
   ]
  },
  {
   "cell_type": "code",
   "execution_count": 31,
   "id": "6e309462",
   "metadata": {},
   "outputs": [],
   "source": [
    "c = np.arange(1,10)"
   ]
  },
  {
   "cell_type": "code",
   "execution_count": 32,
   "id": "9ea65adc",
   "metadata": {},
   "outputs": [
    {
     "data": {
      "text/plain": [
       "array([[1, 2, 3],\n",
       "       [4, 5, 6],\n",
       "       [7, 8, 9]])"
      ]
     },
     "execution_count": 32,
     "metadata": {},
     "output_type": "execute_result"
    }
   ],
   "source": [
    "c.reshape((3,3))"
   ]
  },
  {
   "cell_type": "code",
   "execution_count": 40,
   "id": "f6a48074",
   "metadata": {},
   "outputs": [
    {
     "data": {
      "text/plain": [
       "array([1, 2, 3, 4, 5, 6, 7, 8, 9])"
      ]
     },
     "execution_count": 40,
     "metadata": {},
     "output_type": "execute_result"
    }
   ],
   "source": [
    "x = np.arange(1,10)\n",
    "x"
   ]
  },
  {
   "cell_type": "code",
   "execution_count": 41,
   "id": "1c3040ec",
   "metadata": {},
   "outputs": [
    {
     "data": {
      "text/plain": [
       "1"
      ]
     },
     "execution_count": 41,
     "metadata": {},
     "output_type": "execute_result"
    }
   ],
   "source": [
    "x.ndim "
   ]
  },
  {
   "cell_type": "code",
   "execution_count": 45,
   "id": "1e37aa65",
   "metadata": {},
   "outputs": [
    {
     "data": {
      "text/plain": [
       "array([[1, 2, 3, 4, 5, 6, 7, 8, 9]])"
      ]
     },
     "execution_count": 45,
     "metadata": {},
     "output_type": "execute_result"
    }
   ],
   "source": [
    "y = x.reshape((1,9))\n",
    "y"
   ]
  },
  {
   "cell_type": "code",
   "execution_count": 46,
   "id": "05e5e936",
   "metadata": {},
   "outputs": [
    {
     "data": {
      "text/plain": [
       "2"
      ]
     },
     "execution_count": 46,
     "metadata": {},
     "output_type": "execute_result"
    }
   ],
   "source": [
    "y.ndim "
   ]
  },
  {
   "cell_type": "code",
   "execution_count": 50,
   "id": "40199806",
   "metadata": {},
   "outputs": [],
   "source": [
    "import numpy as np"
   ]
  },
  {
   "cell_type": "code",
   "execution_count": 51,
   "id": "e2ca68c8",
   "metadata": {},
   "outputs": [],
   "source": [
    "x = np.array([1,2,3])\n",
    "y = np.array([5,9,8])"
   ]
  },
  {
   "cell_type": "code",
   "execution_count": 53,
   "id": "7fb2b903",
   "metadata": {},
   "outputs": [
    {
     "data": {
      "text/plain": [
       "array([1, 2, 3, 5, 9, 8])"
      ]
     },
     "execution_count": 53,
     "metadata": {},
     "output_type": "execute_result"
    }
   ],
   "source": [
    "np.concatenate([x, y])"
   ]
  },
  {
   "cell_type": "code",
   "execution_count": 54,
   "id": "617d55e4",
   "metadata": {},
   "outputs": [],
   "source": [
    "z = np.array([7,8,9])"
   ]
  },
  {
   "cell_type": "code",
   "execution_count": 55,
   "id": "4bdc9ebf",
   "metadata": {},
   "outputs": [
    {
     "data": {
      "text/plain": [
       "array([1, 2, 3, 5, 9, 8, 7, 8, 9])"
      ]
     },
     "execution_count": 55,
     "metadata": {},
     "output_type": "execute_result"
    }
   ],
   "source": [
    "np.concatenate([x, y, z])"
   ]
  },
  {
   "cell_type": "code",
   "execution_count": 58,
   "id": "bce0222d",
   "metadata": {},
   "outputs": [
    {
     "data": {
      "text/plain": [
       "array([[1, 2, 3],\n",
       "       [4, 5, 6]])"
      ]
     },
     "execution_count": 58,
     "metadata": {},
     "output_type": "execute_result"
    }
   ],
   "source": [
    "a = np.array([[1,2,3], [4,5,6]])\n",
    "a"
   ]
  },
  {
   "cell_type": "code",
   "execution_count": 59,
   "id": "7415e6a7",
   "metadata": {},
   "outputs": [
    {
     "data": {
      "text/plain": [
       "array([[1, 2, 3],\n",
       "       [4, 5, 6],\n",
       "       [1, 2, 3],\n",
       "       [4, 5, 6]])"
      ]
     },
     "execution_count": 59,
     "metadata": {},
     "output_type": "execute_result"
    }
   ],
   "source": [
    "np.concatenate([a, a])"
   ]
  },
  {
   "cell_type": "code",
   "execution_count": 61,
   "id": "a7478527",
   "metadata": {},
   "outputs": [
    {
     "data": {
      "text/plain": [
       "array([[1, 2, 3, 1, 2, 3],\n",
       "       [4, 5, 6, 4, 5, 6]])"
      ]
     },
     "execution_count": 61,
     "metadata": {},
     "output_type": "execute_result"
    }
   ],
   "source": [
    "np.concatenate([a, a] ,axis =1)"
   ]
  },
  {
   "cell_type": "code",
   "execution_count": 62,
   "id": "25c72cd1",
   "metadata": {},
   "outputs": [],
   "source": [
    "x = np.array([1,2,3,99,99,3,2,1])"
   ]
  },
  {
   "cell_type": "code",
   "execution_count": 65,
   "id": "8d720903",
   "metadata": {},
   "outputs": [
    {
     "data": {
      "text/plain": [
       "[array([1, 2, 3]), array([99, 99]), array([3, 2, 1])]"
      ]
     },
     "execution_count": 65,
     "metadata": {},
     "output_type": "execute_result"
    }
   ],
   "source": [
    "np.split(x, [3,5])"
   ]
  },
  {
   "cell_type": "code",
   "execution_count": 66,
   "id": "e5d1c457",
   "metadata": {},
   "outputs": [
    {
     "data": {
      "text/plain": [
       "[array([1]), array([ 2,  3, 99, 99]), array([3, 2, 1])]"
      ]
     },
     "execution_count": 66,
     "metadata": {},
     "output_type": "execute_result"
    }
   ],
   "source": [
    "np.split(x, [1,5])"
   ]
  },
  {
   "cell_type": "code",
   "execution_count": 67,
   "id": "9db0e1d9",
   "metadata": {},
   "outputs": [],
   "source": [
    "a, b, c = np.split(x, [3,5])"
   ]
  },
  {
   "cell_type": "code",
   "execution_count": 68,
   "id": "6daf5389",
   "metadata": {},
   "outputs": [
    {
     "data": {
      "text/plain": [
       "array([1, 2, 3])"
      ]
     },
     "execution_count": 68,
     "metadata": {},
     "output_type": "execute_result"
    }
   ],
   "source": [
    "a"
   ]
  },
  {
   "cell_type": "code",
   "execution_count": 69,
   "id": "f257bc0c",
   "metadata": {},
   "outputs": [
    {
     "data": {
      "text/plain": [
       "array([99, 99])"
      ]
     },
     "execution_count": 69,
     "metadata": {},
     "output_type": "execute_result"
    }
   ],
   "source": [
    "b"
   ]
  },
  {
   "cell_type": "code",
   "execution_count": 70,
   "id": "82b2aaa8",
   "metadata": {},
   "outputs": [
    {
     "data": {
      "text/plain": [
       "array([3, 2, 1])"
      ]
     },
     "execution_count": 70,
     "metadata": {},
     "output_type": "execute_result"
    }
   ],
   "source": [
    "c"
   ]
  },
  {
   "cell_type": "code",
   "execution_count": 71,
   "id": "5f2f20bc",
   "metadata": {},
   "outputs": [
    {
     "data": {
      "text/plain": [
       "array([[ 0,  1,  2,  3],\n",
       "       [ 4,  5,  6,  7],\n",
       "       [ 8,  9, 10, 11],\n",
       "       [12, 13, 14, 15]])"
      ]
     },
     "execution_count": 71,
     "metadata": {},
     "output_type": "execute_result"
    }
   ],
   "source": [
    "m = np.arange(16).reshape(4,4)\n",
    "m"
   ]
  },
  {
   "cell_type": "code",
   "execution_count": 83,
   "id": "0d8a4df4",
   "metadata": {},
   "outputs": [
    {
     "data": {
      "text/plain": [
       "[array([[0, 1, 2, 3],\n",
       "        [4, 5, 6, 7]]),\n",
       " array([[ 8,  9, 10, 11],\n",
       "        [12, 13, 14, 15]])]"
      ]
     },
     "execution_count": 83,
     "metadata": {},
     "output_type": "execute_result"
    }
   ],
   "source": [
    "np.vsplit(m, [2])"
   ]
  },
  {
   "cell_type": "code",
   "execution_count": 73,
   "id": "98039700",
   "metadata": {},
   "outputs": [
    {
     "data": {
      "text/plain": [
       "array([[34, 10, 74,  2],\n",
       "       [88, 27, 31, 73],\n",
       "       [65,  9, 73, 29],\n",
       "       [34, 57, 74,  8],\n",
       "       [68, 69, 24, 25]])"
      ]
     },
     "execution_count": 73,
     "metadata": {},
     "output_type": "execute_result"
    }
   ],
   "source": [
    "ax = np.random.randint(0,100,20).reshape(5,4)\n",
    "ax"
   ]
  },
  {
   "cell_type": "code",
   "execution_count": 78,
   "id": "3be45637",
   "metadata": {},
   "outputs": [
    {
     "data": {
      "text/plain": [
       "array([[ 9.26566915e-01,  2.63086412e-01, -5.23623850e-01,\n",
       "         5.36940576e-01, -8.37581816e-01],\n",
       "       [-1.11193806e+00, -1.51886718e-01, -5.14320283e-01,\n",
       "         3.52431192e-02, -1.68161385e-01],\n",
       "       [ 9.12884090e-01, -8.29286749e-01,  2.27332355e-01,\n",
       "         4.74143673e-01, -3.74700362e-01],\n",
       "       [-1.80200463e-01,  9.46488685e-01, -4.32304648e-01,\n",
       "        -5.86149880e-02, -4.06727142e-01],\n",
       "       [ 9.98421821e-04, -1.09669459e+00, -6.00825449e-01,\n",
       "         2.59508058e-01, -1.97333081e+00],\n",
       "       [-1.51129579e-01,  4.85108239e-01,  6.43899786e-01,\n",
       "         4.78948243e-01,  6.60031108e-01],\n",
       "       [ 4.99007363e-01,  1.10639186e+00, -5.40169323e-01,\n",
       "        -7.86656071e-01, -7.74291223e-01],\n",
       "       [ 5.88062234e-01,  9.55326466e-01, -2.38313888e-01,\n",
       "        -9.40627095e-02, -3.14844024e-01],\n",
       "       [ 1.85524560e+00,  1.44644623e-01,  1.07943503e+00,\n",
       "         5.83695350e-01, -7.54564663e-01],\n",
       "       [-1.15621609e-01, -4.58260165e-02, -6.27509214e-01,\n",
       "        -7.09417795e-01,  2.31113420e+00],\n",
       "       [-8.11090853e-01,  7.53928381e-01,  2.26121965e-01,\n",
       "         1.43553500e+00, -5.67290891e-01],\n",
       "       [ 1.16957663e+00,  1.29949236e+00, -7.07937414e-01,\n",
       "        -1.56291698e+00,  1.06255522e+00],\n",
       "       [-1.38324766e+00,  1.87913603e+00,  1.23752304e+00,\n",
       "        -2.97043860e-01,  2.37594441e+00],\n",
       "       [ 2.59658208e-01, -2.59932968e-01, -1.03713042e+00,\n",
       "         9.82616967e-01, -1.89703088e-01],\n",
       "       [-8.08263115e-01, -1.67670443e+00,  1.40074593e-01,\n",
       "        -5.09120598e-01, -1.17823646e+00],\n",
       "       [ 1.65473295e-01,  2.36838251e-01, -1.38179580e+00,\n",
       "        -9.94364158e-01,  2.26237699e-01],\n",
       "       [ 3.86629394e-01,  1.20873907e+00, -1.16204918e+00,\n",
       "        -6.33982680e-01, -1.66623610e+00],\n",
       "       [ 8.78556837e-01, -9.66284276e-01,  1.24784215e+00,\n",
       "        -5.00228773e-01, -1.22082470e+00],\n",
       "       [ 9.08016396e-01, -1.44629374e+00,  1.51128496e+00,\n",
       "         5.68685812e-01,  1.47564358e+00],\n",
       "       [ 2.01464354e-02, -1.33059948e+00,  8.49966728e-01,\n",
       "         1.01608008e+00, -1.36425588e+00],\n",
       "       [-9.29928873e-01,  2.04100893e-01,  1.92699532e+00,\n",
       "         2.92885625e-01,  3.88069728e-01],\n",
       "       [-8.76863939e-01, -8.67190053e-01,  3.89079532e-02,\n",
       "        -3.36944242e-01,  1.41963282e+00],\n",
       "       [-1.22334024e+00, -1.53672289e+00,  1.09939635e+00,\n",
       "        -3.70385879e-01,  6.43713584e-01],\n",
       "       [-1.37020308e+00, -8.34759563e-01,  6.90978695e-01,\n",
       "         2.05908004e+00,  5.08895125e-02],\n",
       "       [ 7.12781163e-01,  8.45961296e-01,  1.03051440e+00,\n",
       "        -8.28998841e-01, -1.34004574e+00],\n",
       "       [-1.76008884e+00,  7.24079630e-02,  1.46612202e+00,\n",
       "        -7.67321432e-01,  6.47154992e-01],\n",
       "       [ 5.36212986e-02,  7.43022433e-01,  4.25466420e-01,\n",
       "        -2.82022070e-01,  1.23668980e+00],\n",
       "       [-7.99016283e-01, -6.78450385e-01, -1.48450273e+00,\n",
       "        -2.57693172e-01, -6.26792312e-01],\n",
       "       [-9.49800009e-01, -1.58291154e+00,  7.02473451e-01,\n",
       "        -7.11280657e-01, -2.49377485e+00],\n",
       "       [-5.73812596e-01,  1.45935048e+00, -2.14684731e-01,\n",
       "         1.17955898e+00, -9.25363586e-01]])"
      ]
     },
     "execution_count": 78,
     "metadata": {},
     "output_type": "execute_result"
    }
   ],
   "source": [
    "bx = np.random.normal(0,1,150).reshape(30,5)\n",
    "bx"
   ]
  },
  {
   "cell_type": "code",
   "execution_count": 79,
   "id": "0b7a2a1a",
   "metadata": {},
   "outputs": [
    {
     "data": {
      "text/plain": [
       "array([[0, 1, 2, 3],\n",
       "       [4, 5, 6, 7]])"
      ]
     },
     "execution_count": 79,
     "metadata": {},
     "output_type": "execute_result"
    }
   ],
   "source": [
    "ust, alt = np.vsplit(m,[2])\n",
    "ust"
   ]
  },
  {
   "cell_type": "code",
   "execution_count": 80,
   "id": "6474e829",
   "metadata": {},
   "outputs": [
    {
     "data": {
      "text/plain": [
       "array([[ 8,  9, 10, 11],\n",
       "       [12, 13, 14, 15]])"
      ]
     },
     "execution_count": 80,
     "metadata": {},
     "output_type": "execute_result"
    }
   ],
   "source": [
    "alt"
   ]
  },
  {
   "cell_type": "code",
   "execution_count": 81,
   "id": "fbc3ca24",
   "metadata": {},
   "outputs": [
    {
     "data": {
      "text/plain": [
       "[array([[ 0,  1],\n",
       "        [ 4,  5],\n",
       "        [ 8,  9],\n",
       "        [12, 13]]),\n",
       " array([[ 2,  3],\n",
       "        [ 6,  7],\n",
       "        [10, 11],\n",
       "        [14, 15]])]"
      ]
     },
     "execution_count": 81,
     "metadata": {},
     "output_type": "execute_result"
    }
   ],
   "source": [
    "np.hsplit(m, [2])"
   ]
  },
  {
   "cell_type": "code",
   "execution_count": 84,
   "id": "80c9d355",
   "metadata": {},
   "outputs": [],
   "source": [
    "v = np.array([2,1,4,3,5])"
   ]
  },
  {
   "cell_type": "code",
   "execution_count": 85,
   "id": "0effd70c",
   "metadata": {},
   "outputs": [
    {
     "data": {
      "text/plain": [
       "array([2, 1, 4, 3, 5])"
      ]
     },
     "execution_count": 85,
     "metadata": {},
     "output_type": "execute_result"
    }
   ],
   "source": [
    "v"
   ]
  },
  {
   "cell_type": "code",
   "execution_count": 86,
   "id": "c3a9447b",
   "metadata": {},
   "outputs": [
    {
     "data": {
      "text/plain": [
       "array([1, 2, 3, 4, 5])"
      ]
     },
     "execution_count": 86,
     "metadata": {},
     "output_type": "execute_result"
    }
   ],
   "source": [
    "np.sort(v)"
   ]
  },
  {
   "cell_type": "code",
   "execution_count": 89,
   "id": "819dd993",
   "metadata": {},
   "outputs": [
    {
     "data": {
      "text/plain": [
       "array([[-1.81729182, -0.72051318, -0.47525246, -0.36199123, -0.3485604 ,\n",
       "         0.0125706 ,  0.07770282,  0.27052737,  0.48368237,  2.3008657 ],\n",
       "       [-0.93817184, -0.61510124, -0.07704789, -0.05899743, -0.01384145,\n",
       "         0.00513963,  0.11253989,  0.79761646,  0.96703726,  1.61193992],\n",
       "       [-1.6694795 , -0.7137379 , -0.65416482, -0.59136648, -0.29092435,\n",
       "        -0.1151796 ,  0.51122136,  0.5282556 ,  0.61678983,  1.57082126],\n",
       "       [-1.90825295, -1.35977339, -0.87689933, -0.59760239, -0.59342889,\n",
       "        -0.19758695, -0.02071973,  0.42527429,  0.55744869,  0.70222446],\n",
       "       [-0.88012453, -0.48453173, -0.40155082, -0.12845094,  0.24941643,\n",
       "         0.30263494,  0.37872287,  0.55837602,  0.8187687 ,  1.08317253],\n",
       "       [-1.39040872, -1.09160125, -0.99449454, -0.48060808, -0.25136759,\n",
       "        -0.01926522,  0.09898002,  0.56980426,  0.63799048,  1.10708338],\n",
       "       [-1.27335719, -1.07615383, -1.00999499, -0.76782389, -0.29960175,\n",
       "        -0.07602873,  0.23270402,  0.24860583,  0.27036225,  1.39427415],\n",
       "       [-1.33561162, -1.31366528, -1.24236195, -0.96069091,  0.51445247,\n",
       "         0.54675794,  0.68886207,  0.87024632,  0.91943276,  1.01263427],\n",
       "       [-1.94214836, -1.52915299, -0.76964799, -0.64763745, -0.07603099,\n",
       "        -0.07557418,  0.41772528,  0.49994349,  0.52793734,  1.20792803],\n",
       "       [-1.94083449, -1.25057332, -0.94982938, -0.93100406, -0.45175759,\n",
       "         0.40327863,  0.42536446,  0.44951816,  1.00689325,  1.70536598]])"
      ]
     },
     "execution_count": 89,
     "metadata": {},
     "output_type": "execute_result"
    }
   ],
   "source": [
    "mx = np.random.normal(0,1,100).reshape(10,10)\n",
    "mx = np.sort(mx)\n",
    "mx"
   ]
  },
  {
   "cell_type": "code",
   "execution_count": 93,
   "id": "649835ca",
   "metadata": {},
   "outputs": [
    {
     "data": {
      "text/plain": [
       "array([[18.43920614, 16.43728769, 21.31692627],\n",
       "       [25.57503214, 17.09622264, 26.75850043],\n",
       "       [24.53012925, 25.04877653, 18.69531715]])"
      ]
     },
     "execution_count": 93,
     "metadata": {},
     "output_type": "execute_result"
    }
   ],
   "source": [
    "m = np.random.normal(20,5, (3,3))\n",
    "m"
   ]
  },
  {
   "cell_type": "code",
   "execution_count": 94,
   "id": "3ca805ed",
   "metadata": {},
   "outputs": [
    {
     "data": {
      "text/plain": [
       "array([[16.43728769, 18.43920614, 21.31692627],\n",
       "       [17.09622264, 25.57503214, 26.75850043],\n",
       "       [18.69531715, 24.53012925, 25.04877653]])"
      ]
     },
     "execution_count": 94,
     "metadata": {},
     "output_type": "execute_result"
    }
   ],
   "source": [
    "np.sort(m, axis = 1)"
   ]
  },
  {
   "cell_type": "code",
   "execution_count": 95,
   "id": "dd0f4fbf",
   "metadata": {},
   "outputs": [
    {
     "data": {
      "text/plain": [
       "array([[18.43920614, 16.43728769, 18.69531715],\n",
       "       [24.53012925, 17.09622264, 21.31692627],\n",
       "       [25.57503214, 25.04877653, 26.75850043]])"
      ]
     },
     "execution_count": 95,
     "metadata": {},
     "output_type": "execute_result"
    }
   ],
   "source": [
    "np.sort(m , axis = 0)"
   ]
  },
  {
   "cell_type": "code",
   "execution_count": 101,
   "id": "5ef72183",
   "metadata": {},
   "outputs": [
    {
     "data": {
      "text/plain": [
       "array([[3, 9, 1, 6, 6],\n",
       "       [4, 5, 5, 1, 7],\n",
       "       [8, 0, 3, 3, 1]])"
      ]
     },
     "execution_count": 101,
     "metadata": {},
     "output_type": "execute_result"
    }
   ],
   "source": [
    "a = np.random.randint(10, size=(3,5))\n",
    "a"
   ]
  },
  {
   "cell_type": "code",
   "execution_count": 102,
   "id": "0a918f3a",
   "metadata": {},
   "outputs": [
    {
     "data": {
      "text/plain": [
       "array([3, 9, 1, 6, 6])"
      ]
     },
     "execution_count": 102,
     "metadata": {},
     "output_type": "execute_result"
    }
   ],
   "source": [
    "a[0]"
   ]
  },
  {
   "cell_type": "code",
   "execution_count": 103,
   "id": "97b216ed",
   "metadata": {},
   "outputs": [
    {
     "data": {
      "text/plain": [
       "array([8, 0, 3, 3, 1])"
      ]
     },
     "execution_count": 103,
     "metadata": {},
     "output_type": "execute_result"
    }
   ],
   "source": [
    "a[-1]"
   ]
  },
  {
   "cell_type": "code",
   "execution_count": 104,
   "id": "7dfd188f",
   "metadata": {},
   "outputs": [],
   "source": [
    "a[0] = 100"
   ]
  },
  {
   "cell_type": "code",
   "execution_count": 105,
   "id": "c1e7810f",
   "metadata": {},
   "outputs": [
    {
     "data": {
      "text/plain": [
       "array([[100, 100, 100, 100, 100],\n",
       "       [  4,   5,   5,   1,   7],\n",
       "       [  8,   0,   3,   3,   1]])"
      ]
     },
     "execution_count": 105,
     "metadata": {},
     "output_type": "execute_result"
    }
   ],
   "source": [
    "a"
   ]
  },
  {
   "cell_type": "code",
   "execution_count": 106,
   "id": "b6f6da05",
   "metadata": {},
   "outputs": [
    {
     "data": {
      "text/plain": [
       "100"
      ]
     },
     "execution_count": 106,
     "metadata": {},
     "output_type": "execute_result"
    }
   ],
   "source": [
    "a[0,0]"
   ]
  },
  {
   "cell_type": "code",
   "execution_count": 107,
   "id": "d85b3f38",
   "metadata": {},
   "outputs": [
    {
     "data": {
      "text/plain": [
       "5"
      ]
     },
     "execution_count": 107,
     "metadata": {},
     "output_type": "execute_result"
    }
   ],
   "source": [
    "a[1,1]"
   ]
  },
  {
   "cell_type": "code",
   "execution_count": 114,
   "id": "7d3eace8",
   "metadata": {},
   "outputs": [
    {
     "data": {
      "text/plain": [
       "7"
      ]
     },
     "execution_count": 114,
     "metadata": {},
     "output_type": "execute_result"
    }
   ],
   "source": [
    "a[1,4]"
   ]
  },
  {
   "cell_type": "code",
   "execution_count": 116,
   "id": "822f1f06",
   "metadata": {},
   "outputs": [],
   "source": [
    "a[1, 4] = 99"
   ]
  },
  {
   "cell_type": "code",
   "execution_count": 117,
   "id": "8f6d7c91",
   "metadata": {},
   "outputs": [],
   "source": [
    "a[1,4] = 2.2"
   ]
  },
  {
   "cell_type": "code",
   "execution_count": 118,
   "id": "950c86af",
   "metadata": {},
   "outputs": [
    {
     "data": {
      "text/plain": [
       "array([[100, 100, 100, 100, 100],\n",
       "       [  4,   5,   5,   1,   2],\n",
       "       [  8,   0,   3,   3,   1]])"
      ]
     },
     "execution_count": 118,
     "metadata": {},
     "output_type": "execute_result"
    }
   ],
   "source": [
    "a"
   ]
  },
  {
   "cell_type": "code",
   "execution_count": 119,
   "id": "d11d2521",
   "metadata": {},
   "outputs": [
    {
     "data": {
      "text/plain": [
       "array([20, 21, 22, 23, 24, 25, 26, 27, 28, 29])"
      ]
     },
     "execution_count": 119,
     "metadata": {},
     "output_type": "execute_result"
    }
   ],
   "source": [
    "s = np.arange(20,30)\n",
    "s"
   ]
  },
  {
   "cell_type": "code",
   "execution_count": 120,
   "id": "efbb5d4d",
   "metadata": {},
   "outputs": [
    {
     "data": {
      "text/plain": [
       "array([20, 21, 22])"
      ]
     },
     "execution_count": 120,
     "metadata": {},
     "output_type": "execute_result"
    }
   ],
   "source": [
    "s[0:3]"
   ]
  },
  {
   "cell_type": "code",
   "execution_count": 121,
   "id": "0848164a",
   "metadata": {},
   "outputs": [
    {
     "data": {
      "text/plain": [
       "array([20, 21, 22])"
      ]
     },
     "execution_count": 121,
     "metadata": {},
     "output_type": "execute_result"
    }
   ],
   "source": [
    "s[:3]"
   ]
  },
  {
   "cell_type": "code",
   "execution_count": 122,
   "id": "1cbf6f81",
   "metadata": {},
   "outputs": [
    {
     "data": {
      "text/plain": [
       "array([23, 24, 25, 26, 27, 28, 29])"
      ]
     },
     "execution_count": 122,
     "metadata": {},
     "output_type": "execute_result"
    }
   ],
   "source": [
    "s[3:]"
   ]
  },
  {
   "cell_type": "code",
   "execution_count": 124,
   "id": "205df2af",
   "metadata": {},
   "outputs": [
    {
     "data": {
      "text/plain": [
       "array([21, 23, 25, 27, 29])"
      ]
     },
     "execution_count": 124,
     "metadata": {},
     "output_type": "execute_result"
    }
   ],
   "source": [
    "s[1::2]"
   ]
  },
  {
   "cell_type": "code",
   "execution_count": 125,
   "id": "f559511f",
   "metadata": {},
   "outputs": [
    {
     "data": {
      "text/plain": [
       "array([20, 22, 24, 26, 28])"
      ]
     },
     "execution_count": 125,
     "metadata": {},
     "output_type": "execute_result"
    }
   ],
   "source": [
    "s[0::2]"
   ]
  },
  {
   "cell_type": "code",
   "execution_count": 126,
   "id": "d8552ffc",
   "metadata": {},
   "outputs": [
    {
     "data": {
      "text/plain": [
       "array([22, 24, 26, 28])"
      ]
     },
     "execution_count": 126,
     "metadata": {},
     "output_type": "execute_result"
    }
   ],
   "source": [
    "s[2::2]"
   ]
  },
  {
   "cell_type": "code",
   "execution_count": 127,
   "id": "1d7cb53f",
   "metadata": {},
   "outputs": [
    {
     "data": {
      "text/plain": [
       "array([20, 23, 26, 29])"
      ]
     },
     "execution_count": 127,
     "metadata": {},
     "output_type": "execute_result"
    }
   ],
   "source": [
    "s[0::3]"
   ]
  },
  {
   "cell_type": "code",
   "execution_count": 128,
   "id": "7c55c5ff",
   "metadata": {},
   "outputs": [],
   "source": [
    "#iki boyut slice işlemi"
   ]
  },
  {
   "cell_type": "code",
   "execution_count": 129,
   "id": "b545c65f",
   "metadata": {},
   "outputs": [
    {
     "data": {
      "text/plain": [
       "array([[0, 3, 3, 8, 0],\n",
       "       [7, 8, 8, 1, 8],\n",
       "       [6, 4, 8, 7, 9],\n",
       "       [3, 5, 0, 7, 8],\n",
       "       [0, 4, 1, 0, 2]])"
      ]
     },
     "execution_count": 129,
     "metadata": {},
     "output_type": "execute_result"
    }
   ],
   "source": [
    "m = np.random.randint(10,size = (5,5))\n",
    "m"
   ]
  },
  {
   "cell_type": "code",
   "execution_count": 131,
   "id": "ca582e90",
   "metadata": {},
   "outputs": [
    {
     "data": {
      "text/plain": [
       "array([0, 7, 6, 3, 0])"
      ]
     },
     "execution_count": 131,
     "metadata": {},
     "output_type": "execute_result"
    }
   ],
   "source": [
    "m[:,0]"
   ]
  },
  {
   "cell_type": "code",
   "execution_count": 135,
   "id": "16c6c81b",
   "metadata": {},
   "outputs": [
    {
     "data": {
      "text/plain": [
       "array([3, 8, 4, 5, 4])"
      ]
     },
     "execution_count": 135,
     "metadata": {},
     "output_type": "execute_result"
    }
   ],
   "source": [
    "m[:,1]"
   ]
  },
  {
   "cell_type": "code",
   "execution_count": 132,
   "id": "ba0714a8",
   "metadata": {},
   "outputs": [
    {
     "data": {
      "text/plain": [
       "array([0, 8, 9, 8, 2])"
      ]
     },
     "execution_count": 132,
     "metadata": {},
     "output_type": "execute_result"
    }
   ],
   "source": [
    "m[:,-1]"
   ]
  },
  {
   "cell_type": "code",
   "execution_count": 134,
   "id": "c88d0799",
   "metadata": {},
   "outputs": [
    {
     "data": {
      "text/plain": [
       "array([0, 8, 9, 8, 2])"
      ]
     },
     "execution_count": 134,
     "metadata": {},
     "output_type": "execute_result"
    }
   ],
   "source": [
    "m[:,4]"
   ]
  },
  {
   "cell_type": "code",
   "execution_count": 136,
   "id": "64e79de5",
   "metadata": {},
   "outputs": [
    {
     "data": {
      "text/plain": [
       "array([0, 3, 3, 8, 0])"
      ]
     },
     "execution_count": 136,
     "metadata": {},
     "output_type": "execute_result"
    }
   ],
   "source": [
    "m[0,:]"
   ]
  },
  {
   "cell_type": "code",
   "execution_count": 137,
   "id": "57add77e",
   "metadata": {},
   "outputs": [
    {
     "data": {
      "text/plain": [
       "array([7, 8, 8, 1, 8])"
      ]
     },
     "execution_count": 137,
     "metadata": {},
     "output_type": "execute_result"
    }
   ],
   "source": [
    "m[1,:]"
   ]
  },
  {
   "cell_type": "code",
   "execution_count": 138,
   "id": "34ab1a99",
   "metadata": {},
   "outputs": [
    {
     "data": {
      "text/plain": [
       "array([6, 4, 8, 7, 9])"
      ]
     },
     "execution_count": 138,
     "metadata": {},
     "output_type": "execute_result"
    }
   ],
   "source": [
    "m[2,:]"
   ]
  },
  {
   "cell_type": "code",
   "execution_count": 140,
   "id": "1d67dbc9",
   "metadata": {},
   "outputs": [
    {
     "data": {
      "text/plain": [
       "array([[19, 17, 10, 17, 11],\n",
       "       [24, 21,  8, 22,  1],\n",
       "       [12, 12,  0, 21, 23],\n",
       "       [13, 17, 13,  2,  1],\n",
       "       [15, 18, 19,  1, 22]])"
      ]
     },
     "execution_count": 140,
     "metadata": {},
     "output_type": "execute_result"
    }
   ],
   "source": [
    "m1 = np.random.randint(25,size = (5,5))\n",
    "m1"
   ]
  },
  {
   "cell_type": "code",
   "execution_count": 141,
   "id": "4580bfc5",
   "metadata": {},
   "outputs": [
    {
     "data": {
      "text/plain": [
       "array([[19],\n",
       "       [24]])"
      ]
     },
     "execution_count": 141,
     "metadata": {},
     "output_type": "execute_result"
    }
   ],
   "source": [
    "m1[0:2,0:1]"
   ]
  },
  {
   "cell_type": "code",
   "execution_count": 143,
   "id": "650319c6",
   "metadata": {},
   "outputs": [
    {
     "data": {
      "text/plain": [
       "array([[23]])"
      ]
     },
     "execution_count": 143,
     "metadata": {},
     "output_type": "execute_result"
    }
   ],
   "source": [
    "m1[2:3,4:]"
   ]
  },
  {
   "cell_type": "code",
   "execution_count": 144,
   "id": "22b35967",
   "metadata": {},
   "outputs": [
    {
     "data": {
      "text/plain": [
       "array([[19, 17],\n",
       "       [24, 21],\n",
       "       [12, 12],\n",
       "       [13, 17],\n",
       "       [15, 18]])"
      ]
     },
     "execution_count": 144,
     "metadata": {},
     "output_type": "execute_result"
    }
   ],
   "source": [
    "m1[::,:2]"
   ]
  },
  {
   "cell_type": "code",
   "execution_count": 145,
   "id": "ef79f16a",
   "metadata": {},
   "outputs": [
    {
     "data": {
      "text/plain": [
       "array([[10, 17, 11],\n",
       "       [ 8, 22,  1],\n",
       "       [ 0, 21, 23],\n",
       "       [13,  2,  1],\n",
       "       [19,  1, 22]])"
      ]
     },
     "execution_count": 145,
     "metadata": {},
     "output_type": "execute_result"
    }
   ],
   "source": [
    "m1[::,2:]"
   ]
  },
  {
   "cell_type": "code",
   "execution_count": 146,
   "id": "99d290f2",
   "metadata": {},
   "outputs": [
    {
     "data": {
      "text/plain": [
       "array([[24, 21],\n",
       "       [12, 12]])"
      ]
     },
     "execution_count": 146,
     "metadata": {},
     "output_type": "execute_result"
    }
   ],
   "source": [
    "m1[1:3,0:2]"
   ]
  },
  {
   "cell_type": "code",
   "execution_count": 147,
   "id": "146eb9e4",
   "metadata": {},
   "outputs": [
    {
     "data": {
      "text/plain": [
       "array([[4, 7, 8, 4, 6],\n",
       "       [5, 9, 5, 5, 0],\n",
       "       [6, 5, 0, 3, 4],\n",
       "       [6, 8, 4, 0, 6],\n",
       "       [0, 4, 4, 3, 1]])"
      ]
     },
     "execution_count": 147,
     "metadata": {},
     "output_type": "execute_result"
    }
   ],
   "source": [
    "a1 = np.random.randint(10, size=(5,5))\n",
    "a1"
   ]
  },
  {
   "cell_type": "code",
   "execution_count": 150,
   "id": "c3f07693",
   "metadata": {},
   "outputs": [
    {
     "data": {
      "text/plain": [
       "array([[4, 7],\n",
       "       [5, 9],\n",
       "       [6, 5]])"
      ]
     },
     "execution_count": 150,
     "metadata": {},
     "output_type": "execute_result"
    }
   ],
   "source": [
    "alt_a1 = a1[0:3, 0:2]\n",
    "alt_a1"
   ]
  },
  {
   "cell_type": "code",
   "execution_count": 152,
   "id": "8bf033a4",
   "metadata": {},
   "outputs": [
    {
     "data": {
      "text/plain": [
       "array([[9999,    7],\n",
       "       [   5,    9],\n",
       "       [   6,    5]])"
      ]
     },
     "execution_count": 152,
     "metadata": {},
     "output_type": "execute_result"
    }
   ],
   "source": [
    "alt_a1[0,0] = 9999\n",
    "alt_a1"
   ]
  },
  {
   "cell_type": "code",
   "execution_count": 154,
   "id": "71d0e1ee",
   "metadata": {},
   "outputs": [
    {
     "data": {
      "text/plain": [
       "array([[9999,    7],\n",
       "       [   5,   99],\n",
       "       [   6,    5]])"
      ]
     },
     "execution_count": 154,
     "metadata": {},
     "output_type": "execute_result"
    }
   ],
   "source": [
    "alt_a1[1,1] = 99\n",
    "alt_a1"
   ]
  },
  {
   "cell_type": "code",
   "execution_count": 155,
   "id": "a357e867",
   "metadata": {},
   "outputs": [
    {
     "data": {
      "text/plain": [
       "array([[9999,    7,    8,    4,    6],\n",
       "       [   5,   99,    5,    5,    0],\n",
       "       [   6,    5,    0,    3,    4],\n",
       "       [   6,    8,    4,    0,    6],\n",
       "       [   0,    4,    4,    3,    1]])"
      ]
     },
     "execution_count": 155,
     "metadata": {},
     "output_type": "execute_result"
    }
   ],
   "source": [
    "a1"
   ]
  },
  {
   "cell_type": "code",
   "execution_count": 156,
   "id": "7d8d7890",
   "metadata": {},
   "outputs": [
    {
     "data": {
      "text/plain": [
       "array([[44,  0, 18, 11, 40],\n",
       "       [16, 39, 37, 18, 43],\n",
       "       [26, 35,  2, 47, 25],\n",
       "       [17, 41, 21, 47, 22],\n",
       "       [48,  8, 41, 32, 42]])"
      ]
     },
     "execution_count": 156,
     "metadata": {},
     "output_type": "execute_result"
    }
   ],
   "source": [
    "m2 = np.random.randint(50,size = (5,5))\n",
    "m2"
   ]
  },
  {
   "cell_type": "code",
   "execution_count": 159,
   "id": "31599e5f",
   "metadata": {},
   "outputs": [
    {
     "data": {
      "text/plain": [
       "array([[44,  0],\n",
       "       [16, 39],\n",
       "       [26, 35]])"
      ]
     },
     "execution_count": 159,
     "metadata": {},
     "output_type": "execute_result"
    }
   ],
   "source": [
    "alt_b = m2[0:3, 0:2].copy()\n",
    "alt_b"
   ]
  },
  {
   "cell_type": "code",
   "execution_count": 160,
   "id": "3003576b",
   "metadata": {},
   "outputs": [
    {
     "data": {
      "text/plain": [
       "array([[132,   0],\n",
       "       [ 48, 117],\n",
       "       [ 78, 105]])"
      ]
     },
     "execution_count": 160,
     "metadata": {},
     "output_type": "execute_result"
    }
   ],
   "source": [
    "alt_b*3"
   ]
  },
  {
   "cell_type": "code",
   "execution_count": 161,
   "id": "4f7d1fba",
   "metadata": {},
   "outputs": [
    {
     "data": {
      "text/plain": [
       "array([ 0,  3,  6,  9, 12, 15, 18, 21, 24, 27])"
      ]
     },
     "execution_count": 161,
     "metadata": {},
     "output_type": "execute_result"
    }
   ],
   "source": [
    "v = np.arange(0,30,3)\n",
    "v"
   ]
  },
  {
   "cell_type": "code",
   "execution_count": 162,
   "id": "1e4c03ed",
   "metadata": {},
   "outputs": [
    {
     "data": {
      "text/plain": [
       "3"
      ]
     },
     "execution_count": 162,
     "metadata": {},
     "output_type": "execute_result"
    }
   ],
   "source": [
    "v[1]"
   ]
  },
  {
   "cell_type": "code",
   "execution_count": 163,
   "id": "449b6968",
   "metadata": {},
   "outputs": [
    {
     "data": {
      "text/plain": [
       "9"
      ]
     },
     "execution_count": 163,
     "metadata": {},
     "output_type": "execute_result"
    }
   ],
   "source": [
    "v[3]"
   ]
  },
  {
   "cell_type": "code",
   "execution_count": 164,
   "id": "16e260f0",
   "metadata": {},
   "outputs": [
    {
     "data": {
      "text/plain": [
       "15"
      ]
     },
     "execution_count": 164,
     "metadata": {},
     "output_type": "execute_result"
    }
   ],
   "source": [
    "v[5]"
   ]
  },
  {
   "cell_type": "code",
   "execution_count": 165,
   "id": "244e0c21",
   "metadata": {},
   "outputs": [
    {
     "data": {
      "text/plain": [
       "[3, 9, 15]"
      ]
     },
     "execution_count": 165,
     "metadata": {},
     "output_type": "execute_result"
    }
   ],
   "source": [
    "[v[1], v[3], v[5]]"
   ]
  },
  {
   "cell_type": "code",
   "execution_count": 166,
   "id": "0dbfec0f",
   "metadata": {},
   "outputs": [],
   "source": [
    "al_getir = [1,3,5]"
   ]
  },
  {
   "cell_type": "code",
   "execution_count": 167,
   "id": "d9c2a761",
   "metadata": {},
   "outputs": [
    {
     "data": {
      "text/plain": [
       "array([ 0,  3,  6,  9, 12, 15, 18, 21, 24, 27])"
      ]
     },
     "execution_count": 167,
     "metadata": {},
     "output_type": "execute_result"
    }
   ],
   "source": [
    "v"
   ]
  },
  {
   "cell_type": "code",
   "execution_count": 168,
   "id": "5daae589",
   "metadata": {},
   "outputs": [
    {
     "data": {
      "text/plain": [
       "array([ 3,  9, 15])"
      ]
     },
     "execution_count": 168,
     "metadata": {},
     "output_type": "execute_result"
    }
   ],
   "source": [
    "v[al_getir]"
   ]
  },
  {
   "cell_type": "code",
   "execution_count": 169,
   "id": "b1a8e07f",
   "metadata": {},
   "outputs": [],
   "source": [
    "#iki boyutta fancy"
   ]
  },
  {
   "cell_type": "code",
   "execution_count": 170,
   "id": "eebfa194",
   "metadata": {},
   "outputs": [],
   "source": [
    "m = np.arange(9).reshape((3,3))"
   ]
  },
  {
   "cell_type": "code",
   "execution_count": 171,
   "id": "d7cd1fc3",
   "metadata": {},
   "outputs": [
    {
     "data": {
      "text/plain": [
       "array([[0, 1, 2],\n",
       "       [3, 4, 5],\n",
       "       [6, 7, 8]])"
      ]
     },
     "execution_count": 171,
     "metadata": {},
     "output_type": "execute_result"
    }
   ],
   "source": [
    "m"
   ]
  },
  {
   "cell_type": "code",
   "execution_count": 172,
   "id": "9ee27e7b",
   "metadata": {},
   "outputs": [],
   "source": [
    "satir = np.array([0,1])\n",
    "sutun = np.array([1,1])"
   ]
  },
  {
   "cell_type": "code",
   "execution_count": 173,
   "id": "9408a5a4",
   "metadata": {},
   "outputs": [
    {
     "data": {
      "text/plain": [
       "array([1, 4])"
      ]
     },
     "execution_count": 173,
     "metadata": {},
     "output_type": "execute_result"
    }
   ],
   "source": [
    "m[satir, sutun]"
   ]
  },
  {
   "cell_type": "code",
   "execution_count": 174,
   "id": "ba1b7578",
   "metadata": {},
   "outputs": [],
   "source": [
    "# basit index ile fancy index"
   ]
  },
  {
   "cell_type": "code",
   "execution_count": 175,
   "id": "a524f3bc",
   "metadata": {
    "scrolled": true
   },
   "outputs": [
    {
     "data": {
      "text/plain": [
       "array([[0, 1, 2],\n",
       "       [3, 4, 5],\n",
       "       [6, 7, 8]])"
      ]
     },
     "execution_count": 175,
     "metadata": {},
     "output_type": "execute_result"
    }
   ],
   "source": [
    "m"
   ]
  },
  {
   "cell_type": "code",
   "execution_count": 176,
   "id": "196ce9d6",
   "metadata": {},
   "outputs": [
    {
     "data": {
      "text/plain": [
       "array([1, 2])"
      ]
     },
     "execution_count": 176,
     "metadata": {},
     "output_type": "execute_result"
    }
   ],
   "source": [
    "m[0, [1,2]]"
   ]
  },
  {
   "cell_type": "code",
   "execution_count": 177,
   "id": "12cb404e",
   "metadata": {},
   "outputs": [],
   "source": [
    "#slice "
   ]
  },
  {
   "cell_type": "code",
   "execution_count": 178,
   "id": "ed34694a",
   "metadata": {},
   "outputs": [
    {
     "data": {
      "text/plain": [
       "array([[1, 2],\n",
       "       [4, 5],\n",
       "       [7, 8]])"
      ]
     },
     "execution_count": 178,
     "metadata": {},
     "output_type": "execute_result"
    }
   ],
   "source": [
    "m[0:,[1,2]]"
   ]
  },
  {
   "cell_type": "code",
   "execution_count": 181,
   "id": "a92ae560",
   "metadata": {},
   "outputs": [
    {
     "data": {
      "text/plain": [
       "array([[0, 2],\n",
       "       [3, 5],\n",
       "       [6, 8]])"
      ]
     },
     "execution_count": 181,
     "metadata": {},
     "output_type": "execute_result"
    }
   ],
   "source": [
    "m[0:,[0,2]]"
   ]
  },
  {
   "cell_type": "code",
   "execution_count": 182,
   "id": "fb682b78",
   "metadata": {},
   "outputs": [],
   "source": [
    "# koşullu Eleman İşlemler"
   ]
  },
  {
   "cell_type": "code",
   "execution_count": 183,
   "id": "e1b5d6f3",
   "metadata": {},
   "outputs": [],
   "source": [
    "v = np.array([1,2,3,4,5])"
   ]
  },
  {
   "cell_type": "code",
   "execution_count": 184,
   "id": "617fa03b",
   "metadata": {},
   "outputs": [
    {
     "data": {
      "text/plain": [
       "array([False, False, False, False, False])"
      ]
     },
     "execution_count": 184,
     "metadata": {},
     "output_type": "execute_result"
    }
   ],
   "source": [
    "v > 5"
   ]
  },
  {
   "cell_type": "code",
   "execution_count": 185,
   "id": "8c68fda4",
   "metadata": {},
   "outputs": [
    {
     "data": {
      "text/plain": [
       "array([ True,  True, False, False, False])"
      ]
     },
     "execution_count": 185,
     "metadata": {},
     "output_type": "execute_result"
    }
   ],
   "source": [
    "v < 3"
   ]
  },
  {
   "cell_type": "code",
   "execution_count": 186,
   "id": "60b5b25e",
   "metadata": {},
   "outputs": [
    {
     "data": {
      "text/plain": [
       "array([1, 2])"
      ]
     },
     "execution_count": 186,
     "metadata": {},
     "output_type": "execute_result"
    }
   ],
   "source": [
    "v[v < 3]"
   ]
  },
  {
   "cell_type": "code",
   "execution_count": 187,
   "id": "4b420df1",
   "metadata": {},
   "outputs": [
    {
     "data": {
      "text/plain": [
       "array([4, 5])"
      ]
     },
     "execution_count": 187,
     "metadata": {},
     "output_type": "execute_result"
    }
   ],
   "source": [
    "v[v > 3]"
   ]
  },
  {
   "cell_type": "code",
   "execution_count": 188,
   "id": "166673ce",
   "metadata": {},
   "outputs": [
    {
     "data": {
      "text/plain": [
       "array([3, 4, 5])"
      ]
     },
     "execution_count": 188,
     "metadata": {},
     "output_type": "execute_result"
    }
   ],
   "source": [
    "v[v >= 3]"
   ]
  },
  {
   "cell_type": "code",
   "execution_count": 189,
   "id": "29d35d6f",
   "metadata": {},
   "outputs": [
    {
     "data": {
      "text/plain": [
       "array([1, 2, 3])"
      ]
     },
     "execution_count": 189,
     "metadata": {},
     "output_type": "execute_result"
    }
   ],
   "source": [
    "v[v <= 3]"
   ]
  },
  {
   "cell_type": "code",
   "execution_count": 190,
   "id": "efa55326",
   "metadata": {},
   "outputs": [
    {
     "data": {
      "text/plain": [
       "array([3])"
      ]
     },
     "execution_count": 190,
     "metadata": {},
     "output_type": "execute_result"
    }
   ],
   "source": [
    "v[v == 3]"
   ]
  },
  {
   "cell_type": "code",
   "execution_count": 191,
   "id": "762a6c71",
   "metadata": {},
   "outputs": [
    {
     "data": {
      "text/plain": [
       "array([1, 2, 4, 5])"
      ]
     },
     "execution_count": 191,
     "metadata": {},
     "output_type": "execute_result"
    }
   ],
   "source": [
    "v[v != 3]"
   ]
  },
  {
   "cell_type": "code",
   "execution_count": 192,
   "id": "ab1e40ff",
   "metadata": {},
   "outputs": [
    {
     "data": {
      "text/plain": [
       "array([1, 2, 3, 4, 5])"
      ]
     },
     "execution_count": 192,
     "metadata": {},
     "output_type": "execute_result"
    }
   ],
   "source": [
    "v"
   ]
  },
  {
   "cell_type": "code",
   "execution_count": 193,
   "id": "37c172e4",
   "metadata": {},
   "outputs": [
    {
     "data": {
      "text/plain": [
       "array([ 2,  4,  6,  8, 10])"
      ]
     },
     "execution_count": 193,
     "metadata": {},
     "output_type": "execute_result"
    }
   ],
   "source": [
    "v * 2"
   ]
  },
  {
   "cell_type": "code",
   "execution_count": 194,
   "id": "2a93dac2",
   "metadata": {},
   "outputs": [
    {
     "data": {
      "text/plain": [
       "array([0.2, 0.4, 0.6, 0.8, 1. ])"
      ]
     },
     "execution_count": 194,
     "metadata": {},
     "output_type": "execute_result"
    }
   ],
   "source": [
    "v / 5"
   ]
  },
  {
   "cell_type": "code",
   "execution_count": 195,
   "id": "103d1cb3",
   "metadata": {},
   "outputs": [
    {
     "data": {
      "text/plain": [
       "array([0.5, 1. , 1.5, 2. , 2.5])"
      ]
     },
     "execution_count": 195,
     "metadata": {},
     "output_type": "execute_result"
    }
   ],
   "source": [
    "v * 5 / 10"
   ]
  },
  {
   "cell_type": "code",
   "execution_count": 196,
   "id": "f1f31ce0",
   "metadata": {},
   "outputs": [
    {
     "data": {
      "text/plain": [
       "array([ 1,  4,  9, 16, 25], dtype=int32)"
      ]
     },
     "execution_count": 196,
     "metadata": {},
     "output_type": "execute_result"
    }
   ],
   "source": [
    "v**2"
   ]
  },
  {
   "cell_type": "code",
   "execution_count": 197,
   "id": "36abe0d9",
   "metadata": {},
   "outputs": [],
   "source": [
    "v12 = np.array([1,45,88,66,33])"
   ]
  },
  {
   "cell_type": "code",
   "execution_count": 198,
   "id": "52991457",
   "metadata": {},
   "outputs": [
    {
     "data": {
      "text/plain": [
       "array([ 1, 45, 88, 66, 33])"
      ]
     },
     "execution_count": 198,
     "metadata": {},
     "output_type": "execute_result"
    }
   ],
   "source": [
    "v12"
   ]
  },
  {
   "cell_type": "code",
   "execution_count": 199,
   "id": "bb7cdef7",
   "metadata": {},
   "outputs": [
    {
     "data": {
      "text/plain": [
       "array([0, 1, 2, 3, 4])"
      ]
     },
     "execution_count": 199,
     "metadata": {},
     "output_type": "execute_result"
    }
   ],
   "source": [
    "v - 1"
   ]
  },
  {
   "cell_type": "code",
   "execution_count": 200,
   "id": "a6dc67ae",
   "metadata": {},
   "outputs": [
    {
     "data": {
      "text/plain": [
       "array([-0.5,  0. ,  0.5,  1. ,  1.5])"
      ]
     },
     "execution_count": 200,
     "metadata": {},
     "output_type": "execute_result"
    }
   ],
   "source": [
    "v * 5 /10 - 1 "
   ]
  },
  {
   "cell_type": "code",
   "execution_count": 201,
   "id": "956055b0",
   "metadata": {},
   "outputs": [],
   "source": [
    "# ufunc"
   ]
  },
  {
   "cell_type": "code",
   "execution_count": 202,
   "id": "39e5603a",
   "metadata": {},
   "outputs": [
    {
     "data": {
      "text/plain": [
       "array([0, 1, 2, 3, 4])"
      ]
     },
     "execution_count": 202,
     "metadata": {},
     "output_type": "execute_result"
    }
   ],
   "source": [
    "np.subtract(v, 1)"
   ]
  },
  {
   "cell_type": "code",
   "execution_count": 203,
   "id": "99473875",
   "metadata": {},
   "outputs": [
    {
     "data": {
      "text/plain": [
       "array([2, 3, 4, 5, 6])"
      ]
     },
     "execution_count": 203,
     "metadata": {},
     "output_type": "execute_result"
    }
   ],
   "source": [
    "np.add(v, 1)"
   ]
  },
  {
   "cell_type": "code",
   "execution_count": 204,
   "id": "cccfb78b",
   "metadata": {},
   "outputs": [
    {
     "data": {
      "text/plain": [
       "array([ 4,  8, 12, 16, 20])"
      ]
     },
     "execution_count": 204,
     "metadata": {},
     "output_type": "execute_result"
    }
   ],
   "source": [
    "np.multiply(v,4)"
   ]
  },
  {
   "cell_type": "code",
   "execution_count": 205,
   "id": "8a1aeb2a",
   "metadata": {},
   "outputs": [
    {
     "data": {
      "text/plain": [
       "array([0.33333333, 0.66666667, 1.        , 1.33333333, 1.66666667])"
      ]
     },
     "execution_count": 205,
     "metadata": {},
     "output_type": "execute_result"
    }
   ],
   "source": [
    "np.divide(v, 3)"
   ]
  },
  {
   "cell_type": "code",
   "execution_count": 206,
   "id": "bb542f9d",
   "metadata": {},
   "outputs": [
    {
     "data": {
      "text/plain": [
       "array([  1,   8,  27,  64, 125], dtype=int32)"
      ]
     },
     "execution_count": 206,
     "metadata": {},
     "output_type": "execute_result"
    }
   ],
   "source": [
    "np.power(v, 3)"
   ]
  },
  {
   "cell_type": "code",
   "execution_count": 207,
   "id": "ef81560f",
   "metadata": {},
   "outputs": [
    {
     "data": {
      "text/plain": [
       "array([      1,    1024,   59049, 1048576, 9765625], dtype=int32)"
      ]
     },
     "execution_count": 207,
     "metadata": {},
     "output_type": "execute_result"
    }
   ],
   "source": [
    "np.power(v, 10)"
   ]
  },
  {
   "cell_type": "code",
   "execution_count": 208,
   "id": "2e7b9df3",
   "metadata": {},
   "outputs": [
    {
     "data": {
      "text/plain": [
       "array([1, 0, 1, 0, 1], dtype=int32)"
      ]
     },
     "execution_count": 208,
     "metadata": {},
     "output_type": "execute_result"
    }
   ],
   "source": [
    "v % 2"
   ]
  },
  {
   "cell_type": "code",
   "execution_count": 210,
   "id": "0bfab5ab",
   "metadata": {},
   "outputs": [
    {
     "data": {
      "text/plain": [
       "array([1, 2, 3, 4, 5])"
      ]
     },
     "execution_count": 210,
     "metadata": {},
     "output_type": "execute_result"
    }
   ],
   "source": [
    "v"
   ]
  },
  {
   "cell_type": "code",
   "execution_count": 209,
   "id": "65ac6c5a",
   "metadata": {},
   "outputs": [
    {
     "data": {
      "text/plain": [
       "array([1, 0, 1, 0, 1], dtype=int32)"
      ]
     },
     "execution_count": 209,
     "metadata": {},
     "output_type": "execute_result"
    }
   ],
   "source": [
    "np.mod(v,2)"
   ]
  },
  {
   "cell_type": "code",
   "execution_count": 211,
   "id": "610a5b92",
   "metadata": {},
   "outputs": [
    {
     "data": {
      "text/plain": [
       "array([3])"
      ]
     },
     "execution_count": 211,
     "metadata": {},
     "output_type": "execute_result"
    }
   ],
   "source": [
    "np.absolute(np.array([-3]))"
   ]
  },
  {
   "cell_type": "code",
   "execution_count": 213,
   "id": "7bbb8606",
   "metadata": {},
   "outputs": [
    {
     "data": {
      "text/plain": [
       "array([ 8.94967451, 15.17493376])"
      ]
     },
     "execution_count": 213,
     "metadata": {},
     "output_type": "execute_result"
    }
   ],
   "source": [
    "np.absolute(np.random.normal([-1,\n",
    "                             0],10))"
   ]
  },
  {
   "cell_type": "code",
   "execution_count": 214,
   "id": "84272d3a",
   "metadata": {},
   "outputs": [
    {
     "data": {
      "text/plain": [
       "0.9589157234143065"
      ]
     },
     "execution_count": 214,
     "metadata": {},
     "output_type": "execute_result"
    }
   ],
   "source": [
    "np.sin(360)"
   ]
  },
  {
   "cell_type": "code",
   "execution_count": 215,
   "id": "40905ce8",
   "metadata": {},
   "outputs": [
    {
     "data": {
      "text/plain": [
       "-0.5984600690578581"
      ]
     },
     "execution_count": 215,
     "metadata": {},
     "output_type": "execute_result"
    }
   ],
   "source": [
    "np.cos(180)"
   ]
  },
  {
   "cell_type": "code",
   "execution_count": 216,
   "id": "d62c1896",
   "metadata": {},
   "outputs": [],
   "source": [
    "v = np.array([1,2,3])"
   ]
  },
  {
   "cell_type": "code",
   "execution_count": 217,
   "id": "502171a6",
   "metadata": {},
   "outputs": [
    {
     "data": {
      "text/plain": [
       "array([0.        , 0.69314718, 1.09861229])"
      ]
     },
     "execution_count": 217,
     "metadata": {},
     "output_type": "execute_result"
    }
   ],
   "source": [
    "np.log(v)"
   ]
  },
  {
   "cell_type": "code",
   "execution_count": 218,
   "id": "fc139203",
   "metadata": {},
   "outputs": [
    {
     "data": {
      "text/plain": [
       "array([0.       , 1.       , 1.5849625])"
      ]
     },
     "execution_count": 218,
     "metadata": {},
     "output_type": "execute_result"
    }
   ],
   "source": [
    "np.log2(v)"
   ]
  },
  {
   "cell_type": "code",
   "execution_count": 219,
   "id": "1f9dd57b",
   "metadata": {},
   "outputs": [
    {
     "data": {
      "text/plain": [
       "array([0.        , 0.30103   , 0.47712125])"
      ]
     },
     "execution_count": 219,
     "metadata": {},
     "output_type": "execute_result"
    }
   ],
   "source": [
    "np.log10(v)"
   ]
  },
  {
   "cell_type": "code",
   "execution_count": 220,
   "id": "67d812bf",
   "metadata": {},
   "outputs": [],
   "source": [
    "?np"
   ]
  },
  {
   "cell_type": "markdown",
   "id": "061279ca",
   "metadata": {},
   "source": [
    "## İstatiksel Hesaplamalar"
   ]
  },
  {
   "cell_type": "code",
   "execution_count": 225,
   "id": "be5aa687",
   "metadata": {
    "scrolled": false
   },
   "outputs": [
    {
     "data": {
      "text/plain": [
       "array([30, 38, 26, 48, 49, 11, 40, 60, 40, 52, 20, 70, 10, 41, 73, 21, 41,\n",
       "       58, 11, 75, 71, 37, 78, 68, 57, 39, 54, 34, 27, 39, 53, 13, 70, 17,\n",
       "       15, 27, 71, 29, 35, 48, 65, 31, 19, 55, 50, 48, 69, 53, 64, 54, 61,\n",
       "       28, 39, 60, 29, 68, 34, 33, 16, 17, 38, 44, 60, 27, 76, 33, 71, 47,\n",
       "       25, 15])"
      ]
     },
     "execution_count": 225,
     "metadata": {},
     "output_type": "execute_result"
    }
   ],
   "source": [
    "liste = np.random.randint(10,80,70)\n",
    "liste"
   ]
  },
  {
   "cell_type": "code",
   "execution_count": 226,
   "id": "4dc4f4d5",
   "metadata": {},
   "outputs": [
    {
     "data": {
      "text/plain": [
       "43.214285714285715"
      ]
     },
     "execution_count": 226,
     "metadata": {},
     "output_type": "execute_result"
    }
   ],
   "source": [
    "np.mean(liste, axis=0)"
   ]
  },
  {
   "cell_type": "code",
   "execution_count": 227,
   "id": "a6d49324",
   "metadata": {},
   "outputs": [
    {
     "data": {
      "text/plain": [
       "3025"
      ]
     },
     "execution_count": 227,
     "metadata": {},
     "output_type": "execute_result"
    }
   ],
   "source": [
    "liste.sum()"
   ]
  },
  {
   "cell_type": "code",
   "execution_count": 228,
   "id": "d581e539",
   "metadata": {},
   "outputs": [
    {
     "data": {
      "text/plain": [
       "10"
      ]
     },
     "execution_count": 228,
     "metadata": {},
     "output_type": "execute_result"
    }
   ],
   "source": [
    "liste.min()"
   ]
  },
  {
   "cell_type": "code",
   "execution_count": 230,
   "id": "3a4d3307",
   "metadata": {},
   "outputs": [
    {
     "data": {
      "text/plain": [
       "78"
      ]
     },
     "execution_count": 230,
     "metadata": {},
     "output_type": "execute_result"
    }
   ],
   "source": [
    "liste.max(axis=0)"
   ]
  },
  {
   "cell_type": "code",
   "execution_count": 231,
   "id": "b8b0c7e3",
   "metadata": {},
   "outputs": [
    {
     "data": {
      "text/plain": [
       "364.6255102040817"
      ]
     },
     "execution_count": 231,
     "metadata": {},
     "output_type": "execute_result"
    }
   ],
   "source": [
    "np.var(liste)"
   ]
  },
  {
   "cell_type": "code",
   "execution_count": 233,
   "id": "01f16bf0",
   "metadata": {},
   "outputs": [
    {
     "data": {
      "text/plain": [
       "19.095169813439252"
      ]
     },
     "execution_count": 233,
     "metadata": {},
     "output_type": "execute_result"
    }
   ],
   "source": [
    "np.std(liste)"
   ]
  },
  {
   "cell_type": "code",
   "execution_count": 235,
   "id": "6c88dbf4",
   "metadata": {},
   "outputs": [
    {
     "data": {
      "text/plain": [
       "1.0"
      ]
     },
     "execution_count": 235,
     "metadata": {},
     "output_type": "execute_result"
    }
   ],
   "source": [
    "np.corrcoef(liste)"
   ]
  },
  {
   "cell_type": "code",
   "execution_count": 236,
   "id": "67a81735",
   "metadata": {},
   "outputs": [],
   "source": [
    "# iki bilinmeyenli denklem"
   ]
  },
  {
   "cell_type": "code",
   "execution_count": 237,
   "id": "180a56cd",
   "metadata": {},
   "outputs": [],
   "source": [
    "a = np.array([[5,1] , [1,3]])"
   ]
  },
  {
   "cell_type": "code",
   "execution_count": 238,
   "id": "e1811545",
   "metadata": {},
   "outputs": [],
   "source": [
    "b = np.array([12,10])"
   ]
  },
  {
   "cell_type": "code",
   "execution_count": 239,
   "id": "cff73635",
   "metadata": {},
   "outputs": [
    {
     "data": {
      "text/plain": [
       "array([[5, 1],\n",
       "       [1, 3]])"
      ]
     },
     "execution_count": 239,
     "metadata": {},
     "output_type": "execute_result"
    }
   ],
   "source": [
    "a"
   ]
  },
  {
   "cell_type": "code",
   "execution_count": 240,
   "id": "91b01e6a",
   "metadata": {},
   "outputs": [
    {
     "data": {
      "text/plain": [
       "array([12, 10])"
      ]
     },
     "execution_count": 240,
     "metadata": {},
     "output_type": "execute_result"
    }
   ],
   "source": [
    "b"
   ]
  },
  {
   "cell_type": "code",
   "execution_count": 241,
   "id": "bb44d0b3",
   "metadata": {},
   "outputs": [
    {
     "data": {
      "text/plain": [
       "array([1.85714286, 2.71428571])"
      ]
     },
     "execution_count": 241,
     "metadata": {},
     "output_type": "execute_result"
    }
   ],
   "source": [
    "x = np.linalg.solve(a, b)\n",
    "x"
   ]
  },
  {
   "cell_type": "code",
   "execution_count": 242,
   "id": "fcfdbd88",
   "metadata": {},
   "outputs": [
    {
     "data": {
      "text/plain": [
       "array([0, 2, 4, 6, 8])"
      ]
     },
     "execution_count": 242,
     "metadata": {},
     "output_type": "execute_result"
    }
   ],
   "source": [
    "\n",
    "np.arange(0,10, 2)\n"
   ]
  },
  {
   "cell_type": "code",
   "execution_count": 243,
   "id": "a5913839",
   "metadata": {},
   "outputs": [
    {
     "data": {
      "text/plain": [
       "array([[4, 7, 4],\n",
       "       [2, 5, 0]])"
      ]
     },
     "execution_count": 243,
     "metadata": {},
     "output_type": "execute_result"
    }
   ],
   "source": [
    "a=np.array([[4, 7, 4, 5, 9],\n",
    "            [2, 5, 0, 7, 7],\n",
    "            [1, 9, 0, 8, 2]])\n",
    "a[:2, :3]"
   ]
  },
  {
   "cell_type": "code",
   "execution_count": 245,
   "id": "c2fa90a8",
   "metadata": {},
   "outputs": [
    {
     "data": {
      "text/plain": [
       "[27, 0]"
      ]
     },
     "execution_count": 245,
     "metadata": {},
     "output_type": "execute_result"
    }
   ],
   "source": [
    "v=np.array([ 0, 3, 6, 9, 12, 15, 18, 21, 24, 27])\n",
    "\n",
    "\n",
    "[v[9], v[0]]"
   ]
  },
  {
   "cell_type": "code",
   "execution_count": 246,
   "id": "ec76c3b5",
   "metadata": {},
   "outputs": [
    {
     "data": {
      "text/plain": [
       "array([4, 0, 0])"
      ]
     },
     "execution_count": 246,
     "metadata": {},
     "output_type": "execute_result"
    }
   ],
   "source": [
    "\n",
    "a=np.array([[4, 7, 4, 5, 9],\n",
    "            [2, 5, 0, 7, 7],\n",
    "            [1, 9, 0, 8, 2]])\n",
    "\n",
    "\n",
    "\n",
    "a[:,2]"
   ]
  },
  {
   "cell_type": "code",
   "execution_count": 248,
   "id": "51e632d2",
   "metadata": {},
   "outputs": [
    {
     "data": {
      "text/plain": [
       "array([0, 1, 2, 3, 4, 5, 6, 7, 8, 9])"
      ]
     },
     "execution_count": 248,
     "metadata": {},
     "output_type": "execute_result"
    }
   ],
   "source": [
    "np.arange(0,10)\n"
   ]
  },
  {
   "cell_type": "code",
   "execution_count": 249,
   "id": "5d5aa795",
   "metadata": {},
   "outputs": [
    {
     "data": {
      "text/plain": [
       "array([1, 2, 3, 4, 5, 6, 7, 8, 9])"
      ]
     },
     "execution_count": 249,
     "metadata": {},
     "output_type": "execute_result"
    }
   ],
   "source": [
    "np.arange(1,10)"
   ]
  },
  {
   "cell_type": "code",
   "execution_count": 251,
   "id": "584dc1d1",
   "metadata": {},
   "outputs": [
    {
     "data": {
      "text/plain": [
       "array([3.14, 4.  , 6.  , 1.2 ])"
      ]
     },
     "execution_count": 251,
     "metadata": {},
     "output_type": "execute_result"
    }
   ],
   "source": [
    "np.array([3.14, 4,6,1.2])"
   ]
  },
  {
   "cell_type": "code",
   "execution_count": 252,
   "id": "70c0c63a",
   "metadata": {},
   "outputs": [
    {
     "data": {
      "text/plain": [
       "array([ 5, 10, 15])"
      ]
     },
     "execution_count": 252,
     "metadata": {},
     "output_type": "execute_result"
    }
   ],
   "source": [
    "5*np.array([1,2,3])"
   ]
  },
  {
   "cell_type": "code",
   "execution_count": null,
   "id": "ac5932e0",
   "metadata": {},
   "outputs": [],
   "source": []
  }
 ],
 "metadata": {
  "kernelspec": {
   "display_name": "Python 3 (ipykernel)",
   "language": "python",
   "name": "python3"
  },
  "language_info": {
   "codemirror_mode": {
    "name": "ipython",
    "version": 3
   },
   "file_extension": ".py",
   "mimetype": "text/x-python",
   "name": "python",
   "nbconvert_exporter": "python",
   "pygments_lexer": "ipython3",
   "version": "3.9.13"
  }
 },
 "nbformat": 4,
 "nbformat_minor": 5
}
