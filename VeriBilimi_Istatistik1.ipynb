{
 "cells": [
  {
   "cell_type": "markdown",
   "id": "a72455a9",
   "metadata": {},
   "source": [
    "## Veri Bilimi İstatistik"
   ]
  },
  {
   "cell_type": "markdown",
   "id": "478a2777",
   "metadata": {},
   "source": [
    "Örnek Teorisi"
   ]
  },
  {
   "cell_type": "code",
   "execution_count": 2,
   "id": "fcbaef96",
   "metadata": {},
   "outputs": [],
   "source": [
    "import numpy as np\n",
    "populasyon = np.random.randint(0,80,10000)"
   ]
  },
  {
   "cell_type": "code",
   "execution_count": 3,
   "id": "1f8bd817",
   "metadata": {},
   "outputs": [
    {
     "data": {
      "text/plain": [
       "array([68, 69, 10, 64, 42, 10, 46, 44, 63,  4])"
      ]
     },
     "execution_count": 3,
     "metadata": {},
     "output_type": "execute_result"
    }
   ],
   "source": [
    "populasyon[0:10]"
   ]
  },
  {
   "cell_type": "code",
   "execution_count": 7,
   "id": "8f01eb25",
   "metadata": {},
   "outputs": [
    {
     "data": {
      "text/plain": [
       "array([69, 57, 16, 77, 65, 43, 40, 73, 48,  7])"
      ]
     },
     "execution_count": 7,
     "metadata": {},
     "output_type": "execute_result"
    }
   ],
   "source": [
    "#orneklem cekimi\n",
    "np.random.seed(10)\n",
    "orneklem = np.random.choice(a = populasyon, size =100)\n",
    "orneklem[0:10]"
   ]
  },
  {
   "cell_type": "code",
   "execution_count": 8,
   "id": "3cc1b246",
   "metadata": {},
   "outputs": [
    {
     "data": {
      "text/plain": [
       "39.74"
      ]
     },
     "execution_count": 8,
     "metadata": {},
     "output_type": "execute_result"
    }
   ],
   "source": [
    "orneklem.mean()"
   ]
  },
  {
   "cell_type": "code",
   "execution_count": 9,
   "id": "06850a74",
   "metadata": {},
   "outputs": [
    {
     "data": {
      "text/plain": [
       "39.2317"
      ]
     },
     "execution_count": 9,
     "metadata": {},
     "output_type": "execute_result"
    }
   ],
   "source": [
    "populasyon.mean()"
   ]
  },
  {
   "cell_type": "code",
   "execution_count": 10,
   "id": "4c1b6e5e",
   "metadata": {},
   "outputs": [],
   "source": [
    "#orneklem dağılımı\n",
    "np.random.seed(18)\n",
    "orneklem1 = np.random.choice(a = populasyon, size =100)\n",
    "orneklem2 = np.random.choice(a = populasyon, size =100)\n",
    "orneklem3 = np.random.choice(a = populasyon, size =100)\n",
    "orneklem4 = np.random.choice(a = populasyon, size =100)\n",
    "orneklem5 = np.random.choice(a = populasyon, size =100)\n",
    "orneklem6 = np.random.choice(a = populasyon, size =100)\n",
    "orneklem7 = np.random.choice(a = populasyon, size =100)\n",
    "orneklem8 = np.random.choice(a = populasyon, size =100)\n",
    "orneklem9 = np.random.choice(a = populasyon, size =100)\n",
    "orneklem10 = np.random.choice(a = populasyon, size =100)"
   ]
  },
  {
   "cell_type": "code",
   "execution_count": 12,
   "id": "ebd0b257",
   "metadata": {},
   "outputs": [
    {
     "name": "stdout",
     "output_type": "stream",
     "text": [
      "38.221000000000004\n"
     ]
    }
   ],
   "source": [
    "print((orneklem1.mean()+orneklem2.mean()+orneklem3.mean()+orneklem4.mean()+\n",
    "      orneklem5.mean()+orneklem6.mean()+orneklem7.mean()+orneklem8.mean()+\n",
    "      orneklem9.mean()+orneklem10.mean())/10)"
   ]
  },
  {
   "cell_type": "markdown",
   "id": "8a4df972",
   "metadata": {},
   "source": [
    "# Betimsel İstatistik"
   ]
  },
  {
   "cell_type": "code",
   "execution_count": 13,
   "id": "823e139b",
   "metadata": {},
   "outputs": [
    {
     "data": {
      "text/html": [
       "<div>\n",
       "<style scoped>\n",
       "    .dataframe tbody tr th:only-of-type {\n",
       "        vertical-align: middle;\n",
       "    }\n",
       "\n",
       "    .dataframe tbody tr th {\n",
       "        vertical-align: top;\n",
       "    }\n",
       "\n",
       "    .dataframe thead th {\n",
       "        text-align: right;\n",
       "    }\n",
       "</style>\n",
       "<table border=\"1\" class=\"dataframe\">\n",
       "  <thead>\n",
       "    <tr style=\"text-align: right;\">\n",
       "      <th></th>\n",
       "      <th>total_bill</th>\n",
       "      <th>tip</th>\n",
       "      <th>sex</th>\n",
       "      <th>smoker</th>\n",
       "      <th>day</th>\n",
       "      <th>time</th>\n",
       "      <th>size</th>\n",
       "    </tr>\n",
       "  </thead>\n",
       "  <tbody>\n",
       "    <tr>\n",
       "      <th>0</th>\n",
       "      <td>16.99</td>\n",
       "      <td>1.01</td>\n",
       "      <td>Female</td>\n",
       "      <td>No</td>\n",
       "      <td>Sun</td>\n",
       "      <td>Dinner</td>\n",
       "      <td>2</td>\n",
       "    </tr>\n",
       "    <tr>\n",
       "      <th>1</th>\n",
       "      <td>10.34</td>\n",
       "      <td>1.66</td>\n",
       "      <td>Male</td>\n",
       "      <td>No</td>\n",
       "      <td>Sun</td>\n",
       "      <td>Dinner</td>\n",
       "      <td>3</td>\n",
       "    </tr>\n",
       "    <tr>\n",
       "      <th>2</th>\n",
       "      <td>21.01</td>\n",
       "      <td>3.50</td>\n",
       "      <td>Male</td>\n",
       "      <td>No</td>\n",
       "      <td>Sun</td>\n",
       "      <td>Dinner</td>\n",
       "      <td>3</td>\n",
       "    </tr>\n",
       "    <tr>\n",
       "      <th>3</th>\n",
       "      <td>23.68</td>\n",
       "      <td>3.31</td>\n",
       "      <td>Male</td>\n",
       "      <td>No</td>\n",
       "      <td>Sun</td>\n",
       "      <td>Dinner</td>\n",
       "      <td>2</td>\n",
       "    </tr>\n",
       "    <tr>\n",
       "      <th>4</th>\n",
       "      <td>24.59</td>\n",
       "      <td>3.61</td>\n",
       "      <td>Female</td>\n",
       "      <td>No</td>\n",
       "      <td>Sun</td>\n",
       "      <td>Dinner</td>\n",
       "      <td>4</td>\n",
       "    </tr>\n",
       "  </tbody>\n",
       "</table>\n",
       "</div>"
      ],
      "text/plain": [
       "   total_bill   tip     sex smoker  day    time  size\n",
       "0       16.99  1.01  Female     No  Sun  Dinner     2\n",
       "1       10.34  1.66    Male     No  Sun  Dinner     3\n",
       "2       21.01  3.50    Male     No  Sun  Dinner     3\n",
       "3       23.68  3.31    Male     No  Sun  Dinner     2\n",
       "4       24.59  3.61  Female     No  Sun  Dinner     4"
      ]
     },
     "execution_count": 13,
     "metadata": {},
     "output_type": "execute_result"
    }
   ],
   "source": [
    "import seaborn as sns\n",
    "tips = sns.load_dataset(\"tips\")\n",
    "df = tips.copy()\n",
    "df.head()"
   ]
  },
  {
   "cell_type": "code",
   "execution_count": 14,
   "id": "7e93e6a1",
   "metadata": {},
   "outputs": [
    {
     "data": {
      "text/html": [
       "<div>\n",
       "<style scoped>\n",
       "    .dataframe tbody tr th:only-of-type {\n",
       "        vertical-align: middle;\n",
       "    }\n",
       "\n",
       "    .dataframe tbody tr th {\n",
       "        vertical-align: top;\n",
       "    }\n",
       "\n",
       "    .dataframe thead th {\n",
       "        text-align: right;\n",
       "    }\n",
       "</style>\n",
       "<table border=\"1\" class=\"dataframe\">\n",
       "  <thead>\n",
       "    <tr style=\"text-align: right;\">\n",
       "      <th></th>\n",
       "      <th>count</th>\n",
       "      <th>mean</th>\n",
       "      <th>std</th>\n",
       "      <th>min</th>\n",
       "      <th>25%</th>\n",
       "      <th>50%</th>\n",
       "      <th>75%</th>\n",
       "      <th>max</th>\n",
       "    </tr>\n",
       "  </thead>\n",
       "  <tbody>\n",
       "    <tr>\n",
       "      <th>total_bill</th>\n",
       "      <td>244.0</td>\n",
       "      <td>19.785943</td>\n",
       "      <td>8.902412</td>\n",
       "      <td>3.07</td>\n",
       "      <td>13.3475</td>\n",
       "      <td>17.795</td>\n",
       "      <td>24.1275</td>\n",
       "      <td>50.81</td>\n",
       "    </tr>\n",
       "    <tr>\n",
       "      <th>tip</th>\n",
       "      <td>244.0</td>\n",
       "      <td>2.998279</td>\n",
       "      <td>1.383638</td>\n",
       "      <td>1.00</td>\n",
       "      <td>2.0000</td>\n",
       "      <td>2.900</td>\n",
       "      <td>3.5625</td>\n",
       "      <td>10.00</td>\n",
       "    </tr>\n",
       "    <tr>\n",
       "      <th>size</th>\n",
       "      <td>244.0</td>\n",
       "      <td>2.569672</td>\n",
       "      <td>0.951100</td>\n",
       "      <td>1.00</td>\n",
       "      <td>2.0000</td>\n",
       "      <td>2.000</td>\n",
       "      <td>3.0000</td>\n",
       "      <td>6.00</td>\n",
       "    </tr>\n",
       "  </tbody>\n",
       "</table>\n",
       "</div>"
      ],
      "text/plain": [
       "            count       mean       std   min      25%     50%      75%    max\n",
       "total_bill  244.0  19.785943  8.902412  3.07  13.3475  17.795  24.1275  50.81\n",
       "tip         244.0   2.998279  1.383638  1.00   2.0000   2.900   3.5625  10.00\n",
       "size        244.0   2.569672  0.951100  1.00   2.0000   2.000   3.0000   6.00"
      ]
     },
     "execution_count": 14,
     "metadata": {},
     "output_type": "execute_result"
    }
   ],
   "source": [
    "df.describe().T"
   ]
  },
  {
   "cell_type": "code",
   "execution_count": 17,
   "id": "c143ed6d",
   "metadata": {},
   "outputs": [],
   "source": [
    "import researchpy as rp"
   ]
  },
  {
   "cell_type": "code",
   "execution_count": 19,
   "id": "4905a19a",
   "metadata": {},
   "outputs": [
    {
     "name": "stdout",
     "output_type": "stream",
     "text": [
      "\n",
      "\n"
     ]
    },
    {
     "data": {
      "text/html": [
       "<div>\n",
       "<style scoped>\n",
       "    .dataframe tbody tr th:only-of-type {\n",
       "        vertical-align: middle;\n",
       "    }\n",
       "\n",
       "    .dataframe tbody tr th {\n",
       "        vertical-align: top;\n",
       "    }\n",
       "\n",
       "    .dataframe thead th {\n",
       "        text-align: right;\n",
       "    }\n",
       "</style>\n",
       "<table border=\"1\" class=\"dataframe\">\n",
       "  <thead>\n",
       "    <tr style=\"text-align: right;\">\n",
       "      <th></th>\n",
       "      <th>Variable</th>\n",
       "      <th>N</th>\n",
       "      <th>Mean</th>\n",
       "      <th>SD</th>\n",
       "      <th>SE</th>\n",
       "      <th>95% Conf.</th>\n",
       "      <th>Interval</th>\n",
       "    </tr>\n",
       "  </thead>\n",
       "  <tbody>\n",
       "    <tr>\n",
       "      <th>0</th>\n",
       "      <td>total_bill</td>\n",
       "      <td>244.0</td>\n",
       "      <td>19.7859</td>\n",
       "      <td>8.9024</td>\n",
       "      <td>0.5699</td>\n",
       "      <td>18.6633</td>\n",
       "      <td>20.9086</td>\n",
       "    </tr>\n",
       "    <tr>\n",
       "      <th>1</th>\n",
       "      <td>tip</td>\n",
       "      <td>244.0</td>\n",
       "      <td>2.9983</td>\n",
       "      <td>1.3836</td>\n",
       "      <td>0.0886</td>\n",
       "      <td>2.8238</td>\n",
       "      <td>3.1728</td>\n",
       "    </tr>\n",
       "    <tr>\n",
       "      <th>2</th>\n",
       "      <td>size</td>\n",
       "      <td>244.0</td>\n",
       "      <td>2.5697</td>\n",
       "      <td>0.9511</td>\n",
       "      <td>0.0609</td>\n",
       "      <td>2.4497</td>\n",
       "      <td>2.6896</td>\n",
       "    </tr>\n",
       "  </tbody>\n",
       "</table>\n",
       "</div>"
      ],
      "text/plain": [
       "     Variable      N     Mean      SD      SE  95% Conf.  Interval\n",
       "0  total_bill  244.0  19.7859  8.9024  0.5699    18.6633   20.9086\n",
       "1         tip  244.0   2.9983  1.3836  0.0886     2.8238    3.1728\n",
       "2        size  244.0   2.5697  0.9511  0.0609     2.4497    2.6896"
      ]
     },
     "execution_count": 19,
     "metadata": {},
     "output_type": "execute_result"
    }
   ],
   "source": [
    "rp.summary_cont(df[[\"total_bill\",\"tip\",\"size\"]])"
   ]
  },
  {
   "cell_type": "code",
   "execution_count": 21,
   "id": "b9258bdb",
   "metadata": {},
   "outputs": [
    {
     "data": {
      "text/html": [
       "<div>\n",
       "<style scoped>\n",
       "    .dataframe tbody tr th:only-of-type {\n",
       "        vertical-align: middle;\n",
       "    }\n",
       "\n",
       "    .dataframe tbody tr th {\n",
       "        vertical-align: top;\n",
       "    }\n",
       "\n",
       "    .dataframe thead th {\n",
       "        text-align: right;\n",
       "    }\n",
       "</style>\n",
       "<table border=\"1\" class=\"dataframe\">\n",
       "  <thead>\n",
       "    <tr style=\"text-align: right;\">\n",
       "      <th></th>\n",
       "      <th>Variable</th>\n",
       "      <th>Outcome</th>\n",
       "      <th>Count</th>\n",
       "      <th>Percent</th>\n",
       "    </tr>\n",
       "  </thead>\n",
       "  <tbody>\n",
       "    <tr>\n",
       "      <th>0</th>\n",
       "      <td>sex</td>\n",
       "      <td>Male</td>\n",
       "      <td>157</td>\n",
       "      <td>64.34</td>\n",
       "    </tr>\n",
       "    <tr>\n",
       "      <th>1</th>\n",
       "      <td></td>\n",
       "      <td>Female</td>\n",
       "      <td>87</td>\n",
       "      <td>35.66</td>\n",
       "    </tr>\n",
       "    <tr>\n",
       "      <th>2</th>\n",
       "      <td>smoker</td>\n",
       "      <td>No</td>\n",
       "      <td>151</td>\n",
       "      <td>61.89</td>\n",
       "    </tr>\n",
       "    <tr>\n",
       "      <th>3</th>\n",
       "      <td></td>\n",
       "      <td>Yes</td>\n",
       "      <td>93</td>\n",
       "      <td>38.11</td>\n",
       "    </tr>\n",
       "    <tr>\n",
       "      <th>4</th>\n",
       "      <td>day</td>\n",
       "      <td>Sat</td>\n",
       "      <td>87</td>\n",
       "      <td>35.66</td>\n",
       "    </tr>\n",
       "    <tr>\n",
       "      <th>5</th>\n",
       "      <td></td>\n",
       "      <td>Sun</td>\n",
       "      <td>76</td>\n",
       "      <td>31.15</td>\n",
       "    </tr>\n",
       "    <tr>\n",
       "      <th>6</th>\n",
       "      <td></td>\n",
       "      <td>Thur</td>\n",
       "      <td>62</td>\n",
       "      <td>25.41</td>\n",
       "    </tr>\n",
       "    <tr>\n",
       "      <th>7</th>\n",
       "      <td></td>\n",
       "      <td>Fri</td>\n",
       "      <td>19</td>\n",
       "      <td>7.79</td>\n",
       "    </tr>\n",
       "  </tbody>\n",
       "</table>\n",
       "</div>"
      ],
      "text/plain": [
       "  Variable Outcome  Count  Percent\n",
       "0      sex    Male    157    64.34\n",
       "1           Female     87    35.66\n",
       "2   smoker      No    151    61.89\n",
       "3              Yes     93    38.11\n",
       "4      day     Sat     87    35.66\n",
       "5              Sun     76    31.15\n",
       "6             Thur     62    25.41\n",
       "7              Fri     19     7.79"
      ]
     },
     "execution_count": 21,
     "metadata": {},
     "output_type": "execute_result"
    }
   ],
   "source": [
    "rp.summary_cat(df[[\"sex\",\"smoker\",\"day\"]])"
   ]
  },
  {
   "cell_type": "code",
   "execution_count": 22,
   "id": "45198ebf",
   "metadata": {},
   "outputs": [
    {
     "data": {
      "text/html": [
       "<div>\n",
       "<style scoped>\n",
       "    .dataframe tbody tr th:only-of-type {\n",
       "        vertical-align: middle;\n",
       "    }\n",
       "\n",
       "    .dataframe tbody tr th {\n",
       "        vertical-align: top;\n",
       "    }\n",
       "\n",
       "    .dataframe thead th {\n",
       "        text-align: right;\n",
       "    }\n",
       "</style>\n",
       "<table border=\"1\" class=\"dataframe\">\n",
       "  <thead>\n",
       "    <tr style=\"text-align: right;\">\n",
       "      <th></th>\n",
       "      <th>tip</th>\n",
       "      <th>total_bill</th>\n",
       "    </tr>\n",
       "  </thead>\n",
       "  <tbody>\n",
       "    <tr>\n",
       "      <th>tip</th>\n",
       "      <td>1.914455</td>\n",
       "      <td>8.323502</td>\n",
       "    </tr>\n",
       "    <tr>\n",
       "      <th>total_bill</th>\n",
       "      <td>8.323502</td>\n",
       "      <td>79.252939</td>\n",
       "    </tr>\n",
       "  </tbody>\n",
       "</table>\n",
       "</div>"
      ],
      "text/plain": [
       "                 tip  total_bill\n",
       "tip         1.914455    8.323502\n",
       "total_bill  8.323502   79.252939"
      ]
     },
     "execution_count": 22,
     "metadata": {},
     "output_type": "execute_result"
    }
   ],
   "source": [
    "df[[\"tip\",\"total_bill\"]].cov()"
   ]
  },
  {
   "cell_type": "code",
   "execution_count": 23,
   "id": "3e221d8c",
   "metadata": {},
   "outputs": [
    {
     "data": {
      "text/html": [
       "<div>\n",
       "<style scoped>\n",
       "    .dataframe tbody tr th:only-of-type {\n",
       "        vertical-align: middle;\n",
       "    }\n",
       "\n",
       "    .dataframe tbody tr th {\n",
       "        vertical-align: top;\n",
       "    }\n",
       "\n",
       "    .dataframe thead th {\n",
       "        text-align: right;\n",
       "    }\n",
       "</style>\n",
       "<table border=\"1\" class=\"dataframe\">\n",
       "  <thead>\n",
       "    <tr style=\"text-align: right;\">\n",
       "      <th></th>\n",
       "      <th>tip</th>\n",
       "      <th>total_bill</th>\n",
       "    </tr>\n",
       "  </thead>\n",
       "  <tbody>\n",
       "    <tr>\n",
       "      <th>tip</th>\n",
       "      <td>1.000000</td>\n",
       "      <td>0.675734</td>\n",
       "    </tr>\n",
       "    <tr>\n",
       "      <th>total_bill</th>\n",
       "      <td>0.675734</td>\n",
       "      <td>1.000000</td>\n",
       "    </tr>\n",
       "  </tbody>\n",
       "</table>\n",
       "</div>"
      ],
      "text/plain": [
       "                 tip  total_bill\n",
       "tip         1.000000    0.675734\n",
       "total_bill  0.675734    1.000000"
      ]
     },
     "execution_count": 23,
     "metadata": {},
     "output_type": "execute_result"
    }
   ],
   "source": [
    "df[[\"tip\",\"total_bill\"]].corr()"
   ]
  },
  {
   "cell_type": "markdown",
   "id": "02d6c822",
   "metadata": {},
   "source": [
    "## İş Ugulaması"
   ]
  },
  {
   "cell_type": "code",
   "execution_count": 24,
   "id": "78273a09",
   "metadata": {},
   "outputs": [],
   "source": [
    "import numpy as np\n",
    "fiyatlar = np.random.randint(10,110,1000)"
   ]
  },
  {
   "cell_type": "code",
   "execution_count": 25,
   "id": "81acefea",
   "metadata": {},
   "outputs": [
    {
     "data": {
      "text/plain": [
       "58.696"
      ]
     },
     "execution_count": 25,
     "metadata": {},
     "output_type": "execute_result"
    }
   ],
   "source": [
    "fiyatlar.mean()"
   ]
  },
  {
   "cell_type": "code",
   "execution_count": 26,
   "id": "76aa81bb",
   "metadata": {},
   "outputs": [],
   "source": [
    "import statsmodels.stats.api as sms"
   ]
  },
  {
   "cell_type": "code",
   "execution_count": 27,
   "id": "d6448a86",
   "metadata": {},
   "outputs": [
    {
     "data": {
      "text/plain": [
       "(56.91978189769334, 60.472218102306655)"
      ]
     },
     "execution_count": 27,
     "metadata": {},
     "output_type": "execute_result"
    }
   ],
   "source": [
    "sms.DescrStatsW(fiyatlar).tconfint_mean()"
   ]
  },
  {
   "cell_type": "markdown",
   "id": "4d149e9c",
   "metadata": {},
   "source": [
    "# Olasılık Dağılımları"
   ]
  },
  {
   "cell_type": "markdown",
   "id": "4e90c4aa",
   "metadata": {},
   "source": [
    "### Bernoulli Dağılımı"
   ]
  },
  {
   "cell_type": "code",
   "execution_count": 28,
   "id": "0823c0af",
   "metadata": {},
   "outputs": [],
   "source": [
    "from scipy.stats import bernoulli"
   ]
  },
  {
   "cell_type": "code",
   "execution_count": 29,
   "id": "e74b558a",
   "metadata": {},
   "outputs": [],
   "source": [
    "p = 0.6"
   ]
  },
  {
   "cell_type": "code",
   "execution_count": 30,
   "id": "be3b4893",
   "metadata": {},
   "outputs": [
    {
     "data": {
      "text/plain": [
       "0.6"
      ]
     },
     "execution_count": 30,
     "metadata": {},
     "output_type": "execute_result"
    }
   ],
   "source": [
    "rv = bernoulli(p)\n",
    "rv.pmf(k=1)"
   ]
  },
  {
   "cell_type": "code",
   "execution_count": 31,
   "id": "13c8984c",
   "metadata": {},
   "outputs": [
    {
     "data": {
      "text/plain": [
       "0.4"
      ]
     },
     "execution_count": 31,
     "metadata": {},
     "output_type": "execute_result"
    }
   ],
   "source": [
    "rv.pmf(k=0)"
   ]
  },
  {
   "cell_type": "code",
   "execution_count": null,
   "id": "3050562c",
   "metadata": {},
   "outputs": [],
   "source": []
  },
  {
   "cell_type": "markdown",
   "id": "72cec607",
   "metadata": {},
   "source": [
    "### Büyük Sayılar Yasası"
   ]
  },
  {
   "cell_type": "code",
   "execution_count": 47,
   "id": "06cb8952",
   "metadata": {},
   "outputs": [
    {
     "name": "stdout",
     "output_type": "stream",
     "text": [
      "Atış Sayısı:  2 --- Yazı Olasılığı: 50.00 %\n",
      "Atış Sayısı:  4 --- Yazı Olasılığı: 0.00 %\n",
      "Atış Sayısı:  8 --- Yazı Olasılığı: 62.50 %\n",
      "Atış Sayısı:  16 --- Yazı Olasılığı: 43.75 %\n",
      "Atış Sayısı:  32 --- Yazı Olasılığı: 46.88 %\n",
      "Atış Sayısı:  64 --- Yazı Olasılığı: 56.25 %\n",
      "Atış Sayısı:  128 --- Yazı Olasılığı: 50.78 %\n",
      "Atış Sayısı:  256 --- Yazı Olasılığı: 52.73 %\n",
      "Atış Sayısı:  512 --- Yazı Olasılığı: 52.93 %\n",
      "Atış Sayısı:  1024 --- Yazı Olasılığı: 50.20 %\n",
      "Atış Sayısı:  2048 --- Yazı Olasılığı: 48.58 %\n",
      "Atış Sayısı:  4096 --- Yazı Olasılığı: 49.49 %\n",
      "Atış Sayısı:  8192 --- Yazı Olasılığı: 49.58 %\n",
      "Atış Sayısı:  16384 --- Yazı Olasılığı: 49.96 %\n",
      "Atış Sayısı:  32768 --- Yazı Olasılığı: 50.00 %\n",
      "Atış Sayısı:  65536 --- Yazı Olasılığı: 49.68 %\n",
      "Atış Sayısı:  131072 --- Yazı Olasılığı: 49.97 %\n",
      "Atış Sayısı:  262144 --- Yazı Olasılığı: 50.13 %\n",
      "Atış Sayısı:  524288 --- Yazı Olasılığı: 50.01 %\n",
      "Atış Sayısı:  1048576 --- Yazı Olasılığı: 50.09 %\n",
      "Atış Sayısı:  2097152 --- Yazı Olasılığı: 50.01 %\n",
      "Atış Sayısı:  4194304 --- Yazı Olasılığı: 50.03 %\n",
      "Atış Sayısı:  8388608 --- Yazı Olasılığı: 50.05 %\n",
      "Atış Sayısı:  16777216 --- Yazı Olasılığı: 50.01 %\n"
     ]
    }
   ],
   "source": [
    "rng = np.random.RandomState(123)\n",
    "for i in np.arange(1,25):\n",
    "    deney_sayisi = 2**i\n",
    "    yazi_turalar = rng.randint(0,2, size=deney_sayisi)\n",
    "    yazi_olasılıkları = np.mean(yazi_turalar)\n",
    "    print(\"Atış Sayısı: \", deney_sayisi,\"---\",\"Yazı Olasılığı: %.2f\"% (yazi_olasılıkları*100),\"%\")"
   ]
  },
  {
   "cell_type": "code",
   "execution_count": 48,
   "id": "9a5fd0fa",
   "metadata": {},
   "outputs": [
    {
     "data": {
      "text/plain": [
       "array([1, 1, 0, 0, 1])"
      ]
     },
     "execution_count": 48,
     "metadata": {},
     "output_type": "execute_result"
    }
   ],
   "source": [
    "rng.randint(0,2, size=5)"
   ]
  },
  {
   "cell_type": "markdown",
   "id": "0a3ce4b8",
   "metadata": {},
   "source": [
    "### Normal Dağılım Problemi"
   ]
  },
  {
   "cell_type": "code",
   "execution_count": 50,
   "id": "c142da9d",
   "metadata": {},
   "outputs": [],
   "source": [
    "from scipy.stats import norm"
   ]
  },
  {
   "cell_type": "code",
   "execution_count": 52,
   "id": "554bf1c2",
   "metadata": {},
   "outputs": [
    {
     "data": {
      "text/plain": [
       "0.02275013194817921"
      ]
     },
     "execution_count": 52,
     "metadata": {},
     "output_type": "execute_result"
    }
   ],
   "source": [
    "# 90 dan fazla olma olasılığı\n",
    "1-norm.cdf(90,80,5)"
   ]
  },
  {
   "cell_type": "code",
   "execution_count": 53,
   "id": "358aa2d8",
   "metadata": {},
   "outputs": [
    {
     "data": {
      "text/plain": [
       "0.9772498680518208"
      ]
     },
     "execution_count": 53,
     "metadata": {},
     "output_type": "execute_result"
    }
   ],
   "source": [
    "#70 den fazla olma olasılığı\n",
    "1-norm.cdf(70,80,5)"
   ]
  },
  {
   "cell_type": "code",
   "execution_count": 54,
   "id": "1fcb4b84",
   "metadata": {},
   "outputs": [
    {
     "data": {
      "text/plain": [
       "0.08075665923377107"
      ]
     },
     "execution_count": 54,
     "metadata": {},
     "output_type": "execute_result"
    }
   ],
   "source": [
    "#73 den az olma olasılığı\n",
    "norm.cdf(73,80,5)"
   ]
  },
  {
   "cell_type": "code",
   "execution_count": 55,
   "id": "2076d6bd",
   "metadata": {},
   "outputs": [
    {
     "data": {
      "text/plain": [
       "0.13590512198327787"
      ]
     },
     "execution_count": 55,
     "metadata": {},
     "output_type": "execute_result"
    }
   ],
   "source": [
    "#85 90 arası olma olasılığı\n",
    "norm.cdf(90,80,5) - norm.cdf(85,80,5)"
   ]
  },
  {
   "cell_type": "code",
   "execution_count": 56,
   "id": "3216bdae",
   "metadata": {},
   "outputs": [
    {
     "data": {
      "text/plain": [
       "array([164, 155, 198, 202, 211, 204, 145, 201, 208, 177, 202, 153, 216,\n",
       "       172, 143, 143, 147, 204, 194, 188, 190, 196, 204, 191, 210, 148,\n",
       "       205, 192, 211, 153, 170, 188, 154, 150, 186, 200, 165, 179, 205,\n",
       "       198, 182, 187, 213, 141, 179, 182, 148, 204, 166, 149, 173, 178,\n",
       "       197, 174, 196, 168, 208, 167, 184, 177, 153, 148, 153, 195, 193,\n",
       "       179, 185, 168, 181, 163, 210, 149, 216, 205, 193, 219, 179, 201,\n",
       "       214, 189, 143, 209, 153, 147, 177, 190, 164, 156, 204, 202, 163,\n",
       "       188, 157, 175, 178, 143, 142, 155, 212, 159, 149, 146, 188, 192,\n",
       "       181, 169, 167, 175, 210, 187, 154, 147, 194, 202, 158, 145, 200,\n",
       "       178, 161, 200, 144, 162, 208, 159, 150, 198, 141, 149, 217, 141,\n",
       "       177, 155, 194, 167, 205, 203, 169, 188, 217, 203, 217, 176, 152,\n",
       "       144, 140, 174, 174, 142, 203, 157, 162, 151, 215, 161, 189, 177,\n",
       "       183, 206, 154, 217, 196, 189, 152, 164, 155, 176, 172, 188, 188,\n",
       "       174, 216, 183, 169, 164, 194, 215, 203, 154, 152, 143, 200, 151,\n",
       "       164, 211, 212, 152, 162, 197, 210, 179, 202, 185, 160, 192, 217,\n",
       "       148, 169, 147, 181, 178, 183, 140, 155, 156, 148, 141, 143, 157,\n",
       "       152, 196, 164, 184, 187, 169, 145, 171, 155, 163, 187, 211, 217,\n",
       "       197, 155, 219, 188, 142, 216, 157, 207, 162, 174, 188, 191, 145,\n",
       "       198, 166, 154, 200, 214, 175, 217, 158, 191, 155, 145, 144, 193,\n",
       "       183, 210, 205, 154, 193, 144, 161, 211, 209, 219, 210, 209, 205,\n",
       "       156, 182, 171, 215, 145, 189, 185, 148, 162, 215, 169, 214, 184,\n",
       "       205, 213, 217, 163, 218, 218, 187, 157, 197, 197, 216, 185, 212,\n",
       "       164, 214, 176, 173, 176, 203, 169, 201, 171, 141, 179, 199, 213,\n",
       "       145, 195, 203, 186, 216, 140, 171, 205, 177, 173, 154, 163, 200,\n",
       "       182, 159, 163, 218, 205, 167, 187, 200, 206, 160, 144, 188, 177,\n",
       "       202, 206, 210, 191, 198, 140, 169, 161, 187, 197, 204, 186, 194,\n",
       "       142, 165, 142, 165, 157, 195, 149, 209, 185, 149, 191, 211, 198,\n",
       "       205, 197, 200, 157, 160, 213, 216, 209, 154, 142, 171, 194, 146,\n",
       "       153, 148, 183, 176, 180, 151, 188, 211, 161, 176, 168, 173, 205,\n",
       "       168, 171, 213, 174, 143, 141, 205, 210, 215, 192, 207, 185, 179,\n",
       "       198, 151, 142, 145, 163, 172, 144, 184, 175, 143, 162, 189, 178,\n",
       "       146, 154, 149, 149, 203, 142, 195, 144, 150, 209, 169, 205, 200,\n",
       "       149, 184, 165, 219, 144, 192, 208, 176, 219, 160, 153, 162, 203,\n",
       "       217, 179, 198, 187, 154, 191, 164, 191, 178, 160, 196, 215, 206,\n",
       "       165, 144, 216, 163, 163, 159, 159, 150, 207, 154, 215, 162, 214,\n",
       "       206, 177, 145, 217, 213, 140, 174, 193, 217, 209, 195, 180, 159,\n",
       "       156, 156, 209, 178, 146, 189, 208, 156, 211, 163, 212, 187, 189,\n",
       "       148, 172, 169, 158, 215, 203, 199, 194, 207, 216, 149, 187, 187,\n",
       "       149, 163, 164, 147, 186, 219, 210, 199, 150, 209, 204, 185, 161,\n",
       "       205, 142, 157, 163, 141, 199, 188, 170, 204, 156, 173, 212, 211,\n",
       "       218, 203, 150, 185, 189, 197, 216, 163, 169, 183, 204, 169, 202,\n",
       "       165, 201, 168, 170, 203, 209, 155, 204, 200, 150, 177, 192, 216,\n",
       "       143, 190, 166, 162, 193, 145, 152, 145, 170, 143, 167, 152, 163,\n",
       "       214, 164, 146, 165, 150, 205, 209, 182, 158, 185, 170, 190, 181,\n",
       "       145, 164, 216, 153, 148, 172, 188, 152, 164, 164, 141, 205, 174,\n",
       "       158, 158, 175, 202, 149, 208, 206, 182, 174, 153, 194, 205, 203,\n",
       "       205, 206, 144, 141, 168, 177, 173, 216, 209, 152, 147, 196, 166,\n",
       "       154, 185, 157, 190, 213, 177, 149, 203, 168, 140, 167, 190, 175,\n",
       "       145, 178, 200, 208, 181, 142, 144, 198, 203, 149, 165, 215, 143,\n",
       "       140, 198, 152, 175, 167, 214, 149, 161, 151, 164, 183, 191, 208,\n",
       "       150, 190, 147, 167, 167, 175, 172, 193, 150, 173, 155, 172, 205,\n",
       "       190, 202, 173, 189, 153, 161, 178, 191, 143, 174, 195, 216, 151,\n",
       "       215, 167, 154, 208, 214, 176, 183, 218, 150, 207, 175, 155, 212,\n",
       "       158, 186, 190, 184, 152, 179, 209, 219, 164, 217, 217, 147, 181,\n",
       "       171, 195, 144, 153, 203, 158, 175, 209, 213, 215, 158, 167, 211,\n",
       "       188, 160, 157, 147, 173, 163, 209, 176, 199, 211, 166, 145, 170,\n",
       "       169, 174, 202, 218, 193, 141, 174, 169, 181, 205, 164, 198, 185,\n",
       "       160, 182, 147, 156, 162, 151, 199, 204, 196, 201, 210, 142, 195,\n",
       "       152, 212, 150, 214, 141, 207, 179, 190, 203, 148, 164, 201, 160,\n",
       "       153, 165, 161, 175, 202, 163, 179, 142, 140, 161, 192, 140, 193,\n",
       "       190, 145, 191, 182, 173, 193, 140, 203, 150, 152, 147, 174, 155,\n",
       "       188, 150, 218, 142, 152, 168, 151, 182, 175, 155, 206, 156, 181,\n",
       "       153, 219, 192, 194, 141, 180, 165, 160, 164, 198, 142, 171, 154,\n",
       "       180, 190, 151, 179, 216, 154, 215, 164, 211, 154, 169, 189, 146,\n",
       "       162, 218, 144, 169, 185, 197, 157, 160, 148, 154, 151, 213, 208,\n",
       "       141, 217, 163, 176, 142, 172, 207, 187, 162, 169, 157, 141, 210,\n",
       "       188, 172, 175, 219, 149, 144, 177, 206, 215, 156, 217, 189, 157,\n",
       "       208, 164, 200, 166, 201, 174, 164, 175, 174, 202, 163, 164, 171,\n",
       "       173, 194, 208, 147, 187, 199, 156, 189, 191, 177, 193, 167, 163,\n",
       "       185, 210, 204, 159, 200, 204, 215, 197, 215, 153, 149, 189, 188,\n",
       "       216, 150, 201, 196, 212, 167, 209, 172, 142, 145, 194, 205, 186,\n",
       "       180, 148, 166, 219, 215, 178, 171, 207, 159, 189, 145, 171, 209,\n",
       "       211, 198, 180, 181, 194, 187, 165, 170, 167, 152, 208, 211, 192,\n",
       "       215, 179, 182, 193, 167, 191, 157, 193, 141, 140, 215, 167, 214,\n",
       "       191, 191, 177, 193, 166, 161, 207, 154, 169, 208, 213, 205, 171,\n",
       "       148, 187, 176, 167, 191, 170, 217, 190, 197, 186, 172, 148, 146,\n",
       "       154, 176, 155, 145, 155, 189, 214, 143, 144, 193, 217, 163])"
      ]
     },
     "execution_count": 56,
     "metadata": {},
     "output_type": "execute_result"
    }
   ],
   "source": [
    "np.random.randint(140, 220, 1000)"
   ]
  },
  {
   "cell_type": "code",
   "execution_count": null,
   "id": "5a902d34",
   "metadata": {},
   "outputs": [],
   "source": []
  }
 ],
 "metadata": {
  "kernelspec": {
   "display_name": "Python 3 (ipykernel)",
   "language": "python",
   "name": "python3"
  },
  "language_info": {
   "codemirror_mode": {
    "name": "ipython",
    "version": 3
   },
   "file_extension": ".py",
   "mimetype": "text/x-python",
   "name": "python",
   "nbconvert_exporter": "python",
   "pygments_lexer": "ipython3",
   "version": "3.9.13"
  }
 },
 "nbformat": 4,
 "nbformat_minor": 5
}
